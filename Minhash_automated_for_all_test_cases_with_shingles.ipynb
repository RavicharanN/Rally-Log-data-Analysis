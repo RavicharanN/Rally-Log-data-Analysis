{
 "cells": [
  {
   "cell_type": "code",
   "execution_count": 1,
   "metadata": {},
   "outputs": [],
   "source": [
    "import pandas\n",
    "import csv \n",
    "import numpy as np\n",
    "from datasketch import MinHash, MinHashLSH"
   ]
  },
  {
   "cell_type": "code",
   "execution_count": 4,
   "metadata": {},
   "outputs": [],
   "source": [
    "# Shingle generators \n",
    "# Arguments : Message string, shingle size {in words}\n",
    "# Returns : All shingles formed with k words\n",
    "def shingle_generator(message, k):\n",
    "    message = message.split(' ')\n",
    "    item_set = []\n",
    "    for i in range(0, len(message)-k):\n",
    "        shingle = \"\"\n",
    "        for j in range(0, k):\n",
    "            shingle = shingle + message[i+j] + \" \"\n",
    "        item_set.append(shingle)\n",
    "    return item_set"
   ]
  },
  {
   "cell_type": "code",
   "execution_count": 5,
   "metadata": {},
   "outputs": [],
   "source": [
    "# dump the CSV file into a numpy array. \n",
    "csv_reader = pandas.read_csv('data/string_study.csv', delimiter=',', header=None)\n",
    "final_arr = csv_reader.values\n",
    "final_arr = np.array(final_arr)"
   ]
  },
  {
   "cell_type": "code",
   "execution_count": 6,
   "metadata": {},
   "outputs": [],
   "source": [
    "# define the test sets of threshold and the number of permutations\n",
    "threshold_set = [.001, .01, .1, .2, .4, .5]\n",
    "permutations_set = [128, 151]"
   ]
  },
  {
   "cell_type": "code",
   "execution_count": 7,
   "metadata": {},
   "outputs": [
    {
     "data": {
      "text/plain": [
       "array([\"Rally tired waiting 1440.00 seconds for Server rally-9db3-aPln:176b6fd3-8a2d-4b60-a5bd-73575c4ad161 to become ('ACTIVE') current status BUILD\"],\n",
       "      dtype=object)"
      ]
     },
     "execution_count": 7,
     "metadata": {},
     "output_type": "execute_result"
    }
   ],
   "source": [
    "# extract all the raw_messsages from the error logs\n",
    "raw_msgs = final_arr[0:, -1]\n",
    "raw_msgs.shape\n",
    "raw_msgs[1:2]"
   ]
  },
  {
   "cell_type": "code",
   "execution_count": 9,
   "metadata": {},
   "outputs": [],
   "source": [
    "# Generate the set of words of all raw messages\n",
    "message_set = []\n",
    "for item in raw_msgs:\n",
    "#     set_of_words = set(item.split(' '))\n",
    "    # Shingle size is set to 3 words\n",
    "    set_of_words = set(shingle_generator(item, 2))\n",
    "    message_set.append(set_of_words)"
   ]
  },
  {
   "cell_type": "code",
   "execution_count": 10,
   "metadata": {},
   "outputs": [
    {
     "name": "stdout",
     "output_type": "stream",
     "text": [
      "Writing to output_128_0.001\n",
      "Writing to output_128_0.01\n",
      "Writing to output_128_0.1\n",
      "Writing to output_128_0.2\n",
      "Writing to output_128_0.4\n",
      "Writing to output_128_0.5\n",
      "Writing to output_151_0.001\n",
      "Writing to output_151_0.01\n",
      "Writing to output_151_0.1\n",
      "Writing to output_151_0.2\n",
      "Writing to output_151_0.4\n",
      "Writing to output_151_0.5\n"
     ]
    }
   ],
   "source": [
    "# Run the Min hash algo for all the permutations\n",
    "for permutations in permutations_set:\n",
    "    # Generalize the name of the output text file. \n",
    "    filename = \"output_\"\n",
    "    # Update the permutaitons in the 'filename'\n",
    "    filename = filename + str(permutations)\n",
    "    m = []\n",
    "    for i in range (0, len(message_set)):\n",
    "        m_temp = MinHash(num_perm=permutations)\n",
    "        m.append(m_temp)\n",
    "    i = 0\n",
    "    for message in message_set:\n",
    "        for word in message:\n",
    "            m[i].update(word.encode('utf-8'))\n",
    "        i = i + 1\n",
    "    \n",
    "    # Run the algo for all thresholds in the threshold set\n",
    "    for threshold in threshold_set:\n",
    "        temp_filename = filename\n",
    "        filename = filename + \"_\" + str(threshold)\n",
    "        lsh = MinHashLSH(threshold=threshold, num_perm=permutations)\n",
    "        for i in range (1, len(m)):\n",
    "            string = \"m\" + str(i)\n",
    "            lsh.insert(string, m[i])\n",
    "        # Find all the messages similar to the fist message with a specified threshold\n",
    "        result = lsh.query(m[1])\n",
    "        \n",
    "        # Write the result to a file\n",
    "        print \"Writing to \" + filename\n",
    "        filename = filename + \".txt\"\n",
    "        with open(filename, 'w') as f:\n",
    "            for item in result:\n",
    "                f.write(\"%s\\n\" % item)\n",
    "        \n",
    "        # Reset the file name\n",
    "        filename = temp_filename"
   ]
  },
  {
   "cell_type": "code",
   "execution_count": 11,
   "metadata": {},
   "outputs": [
    {
     "name": "stdout",
     "output_type": "stream",
     "text": [
      "Successfully completed. No of files created 12\n"
     ]
    }
   ],
   "source": [
    "print \"Successfully completed. No of files created \" + str(len(permutations_set)*len(threshold_set))"
   ]
  },
  {
   "cell_type": "code",
   "execution_count": null,
   "metadata": {},
   "outputs": [],
   "source": []
  }
 ],
 "metadata": {
  "kernelspec": {
   "display_name": "Python 2",
   "language": "python",
   "name": "python2"
  },
  "language_info": {
   "codemirror_mode": {
    "name": "ipython",
    "version": 2
   },
   "file_extension": ".py",
   "mimetype": "text/x-python",
   "name": "python",
   "nbconvert_exporter": "python",
   "pygments_lexer": "ipython2",
   "version": "2.7.15"
  }
 },
 "nbformat": 4,
 "nbformat_minor": 2
}
