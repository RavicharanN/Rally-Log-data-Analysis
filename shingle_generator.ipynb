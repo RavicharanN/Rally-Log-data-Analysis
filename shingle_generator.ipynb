{
 "cells": [
  {
   "cell_type": "code",
   "execution_count": 1,
   "metadata": {},
   "outputs": [],
   "source": [
    "import numpy"
   ]
  },
  {
   "cell_type": "code",
   "execution_count": 2,
   "metadata": {},
   "outputs": [],
   "source": [
    "def shingle_generator(message, k):\n",
    "    message = message.split(' ')\n",
    "    item_set = []\n",
    "    for i in range(0, len(message)-k):\n",
    "        shingle = \"\"\n",
    "        for j in range(0, k):\n",
    "            shingle = shingle + message[i+j] + \" \"\n",
    "        item_set.append(shingle)\n",
    "    return item_set"
   ]
  },
  {
   "cell_type": "code",
   "execution_count": 3,
   "metadata": {},
   "outputs": [],
   "source": [
    "result = shingle_generator(\"MinHash is an effective method for dimensionality reduction\", 2)"
   ]
  },
  {
   "cell_type": "code",
   "execution_count": 4,
   "metadata": {},
   "outputs": [
    {
     "data": {
      "text/plain": [
       "['MinHash is ',\n",
       " 'is an ',\n",
       " 'an effective ',\n",
       " 'effective method ',\n",
       " 'method for ',\n",
       " 'for dimensionality ']"
      ]
     },
     "execution_count": 4,
     "metadata": {},
     "output_type": "execute_result"
    }
   ],
   "source": [
    "result"
   ]
  },
  {
   "cell_type": "code",
   "execution_count": null,
   "metadata": {},
   "outputs": [],
   "source": []
  }
 ],
 "metadata": {
  "kernelspec": {
   "display_name": "Python 3",
   "language": "python",
   "name": "python3"
  },
  "language_info": {
   "codemirror_mode": {
    "name": "ipython",
    "version": 3
   },
   "file_extension": ".py",
   "mimetype": "text/x-python",
   "name": "python",
   "nbconvert_exporter": "python",
   "pygments_lexer": "ipython3",
   "version": "3.6.1"
  }
 },
 "nbformat": 4,
 "nbformat_minor": 2
}
