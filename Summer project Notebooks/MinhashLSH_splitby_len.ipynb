{
 "cells": [
  {
   "cell_type": "code",
   "execution_count": 1,
   "metadata": {},
   "outputs": [],
   "source": [
    "import pandas as pd\n",
    "import numpy as np\n",
    "import matplotlib\n",
    "import matplotlib.pyplot as plt\n",
    "%matplotlib inline\n",
    "pd.options.display.max_colwidth=100"
   ]
  },
  {
   "cell_type": "code",
   "execution_count": 2,
   "metadata": {},
   "outputs": [],
   "source": [
    "# Shingle generators \n",
    "# Arguments : Message string, shingle size {in words}\n",
    "# Returns : All shingles formed with k words\n",
    "def shingle_generator(message, k):\n",
    "    message = message.split(' ')\n",
    "    item_set = []\n",
    "    for i in range(0, len(message)-k):\n",
    "        shingle = \"\"\n",
    "        for j in range(0, k):\n",
    "            shingle = shingle + message[i+j] + \" \"\n",
    "        item_set.append(shingle)\n",
    "    return item_set"
   ]
  },
  {
   "cell_type": "code",
   "execution_count": 3,
   "metadata": {},
   "outputs": [],
   "source": [
    "# dump pkl into a pandas dataframe. \n",
    "data = pd.read_pickle('data/string_study.pkl')"
   ]
  },
  {
   "cell_type": "code",
   "execution_count": 9,
   "metadata": {
    "scrolled": true
   },
   "outputs": [
    {
     "data": {
      "text/html": [
       "<div>\n",
       "<style scoped>\n",
       "    .dataframe tbody tr th:only-of-type {\n",
       "        vertical-align: middle;\n",
       "    }\n",
       "\n",
       "    .dataframe tbody tr th {\n",
       "        vertical-align: top;\n",
       "    }\n",
       "\n",
       "    .dataframe thead th {\n",
       "        text-align: right;\n",
       "    }\n",
       "</style>\n",
       "<table border=\"1\" class=\"dataframe\">\n",
       "  <thead>\n",
       "    <tr style=\"text-align: right;\">\n",
       "      <th></th>\n",
       "      <th>atime</th>\n",
       "      <th>task</th>\n",
       "      <th>deployment</th>\n",
       "      <th>raw</th>\n",
       "      <th>dtime</th>\n",
       "      <th>msg</th>\n",
       "      <th>_info</th>\n",
       "      <th>word_count</th>\n",
       "    </tr>\n",
       "  </thead>\n",
       "  <tbody>\n",
       "    <tr>\n",
       "      <th>0</th>\n",
       "      <td>1524387149611</td>\n",
       "      <td>attach-volume</td>\n",
       "      <td>wig_project_003</td>\n",
       "      <td>2018-04-22 10:52:29.611 17979 ERROR rallytester.rallytester [-] [nova attach-volume wig_project_...</td>\n",
       "      <td>2018-04-22 08:00:00</td>\n",
       "      <td>waiting for Server to become ('ACTIVE')</td>\n",
       "      <td>Rally tired waiting 1440.00 seconds for Server rally-9db3-aPln:176b6fd3-8a2d-4b60-a5bd-73575c4ad...</td>\n",
       "      <td>14</td>\n",
       "    </tr>\n",
       "    <tr>\n",
       "      <th>1</th>\n",
       "      <td>1524387185889</td>\n",
       "      <td>boot-from-volume-linux</td>\n",
       "      <td>gva_shared_016</td>\n",
       "      <td>2018-04-22 10:53:05.889 25667 ERROR rallytester.rallytester [-] [nova boot-from-volume-linux gva...</td>\n",
       "      <td>2018-04-22 08:00:00</td>\n",
       "      <td>Quota exceeded for cores, instances: Requested ..... cores, instances (HTTP 403) (Request-ID: re...</td>\n",
       "      <td>Quota exceeded for cores, instances: Requested 1, 1, but already used 10, 10 of 10, 10 cores, in...</td>\n",
       "      <td>22</td>\n",
       "    </tr>\n",
       "    <tr>\n",
       "      <th>2</th>\n",
       "      <td>1524387196073</td>\n",
       "      <td>boot-linux</td>\n",
       "      <td>gva_shared_016</td>\n",
       "      <td>2018-04-22 10:53:16.073 25840 ERROR rallytester.rallytester [-] [nova boot-linux gva_shared_016]...</td>\n",
       "      <td>2018-04-22 08:00:00</td>\n",
       "      <td>Quota exceeded for cores, instances: Requested ..... cores, instances (HTTP 403) (Request-ID: re...</td>\n",
       "      <td>Quota exceeded for cores, instances: Requested 1, 1, but already used 10, 10 of 10, 10 cores, in...</td>\n",
       "      <td>22</td>\n",
       "    </tr>\n",
       "    <tr>\n",
       "      <th>3</th>\n",
       "      <td>1524387321429</td>\n",
       "      <td>boot-linux</td>\n",
       "      <td>gva_project_013</td>\n",
       "      <td>2018-04-22 10:55:21.429 19322 ERROR rallytester.rallytester [-] [nova boot-linux gva_project_013...</td>\n",
       "      <td>2018-04-22 08:00:00</td>\n",
       "      <td>waiting for Server to become ('ACTIVE')</td>\n",
       "      <td>Rally tired waiting 1440.00 seconds for Server rally-15fc-N4mw:77640b75-df94-4e6d-91d6-3338fffcd...</td>\n",
       "      <td>14</td>\n",
       "    </tr>\n",
       "    <tr>\n",
       "      <th>4</th>\n",
       "      <td>1524387330897</td>\n",
       "      <td>attach-volume</td>\n",
       "      <td>gva_project_023</td>\n",
       "      <td>2018-04-22 10:55:30.897 19363 ERROR rallytester.rallytester [-] [nova attach-volume gva_project_...</td>\n",
       "      <td>2018-04-22 08:00:00</td>\n",
       "      <td>waiting for Server to become ('ACTIVE')</td>\n",
       "      <td>Rally tired waiting 1440.00 seconds for Server rally-1c07-9a14:c7c5f878-2495-45bf-873d-da11b5d88...</td>\n",
       "      <td>14</td>\n",
       "    </tr>\n",
       "  </tbody>\n",
       "</table>\n",
       "</div>"
      ],
      "text/plain": [
       "           atime                    task       deployment  \\\n",
       "0  1524387149611           attach-volume  wig_project_003   \n",
       "1  1524387185889  boot-from-volume-linux   gva_shared_016   \n",
       "2  1524387196073              boot-linux   gva_shared_016   \n",
       "3  1524387321429              boot-linux  gva_project_013   \n",
       "4  1524387330897           attach-volume  gva_project_023   \n",
       "\n",
       "                                                                                                   raw  \\\n",
       "0  2018-04-22 10:52:29.611 17979 ERROR rallytester.rallytester [-] [nova attach-volume wig_project_...   \n",
       "1  2018-04-22 10:53:05.889 25667 ERROR rallytester.rallytester [-] [nova boot-from-volume-linux gva...   \n",
       "2  2018-04-22 10:53:16.073 25840 ERROR rallytester.rallytester [-] [nova boot-linux gva_shared_016]...   \n",
       "3  2018-04-22 10:55:21.429 19322 ERROR rallytester.rallytester [-] [nova boot-linux gva_project_013...   \n",
       "4  2018-04-22 10:55:30.897 19363 ERROR rallytester.rallytester [-] [nova attach-volume gva_project_...   \n",
       "\n",
       "                dtime  \\\n",
       "0 2018-04-22 08:00:00   \n",
       "1 2018-04-22 08:00:00   \n",
       "2 2018-04-22 08:00:00   \n",
       "3 2018-04-22 08:00:00   \n",
       "4 2018-04-22 08:00:00   \n",
       "\n",
       "                                                                                                   msg  \\\n",
       "0                                                              waiting for Server to become ('ACTIVE')   \n",
       "1  Quota exceeded for cores, instances: Requested ..... cores, instances (HTTP 403) (Request-ID: re...   \n",
       "2  Quota exceeded for cores, instances: Requested ..... cores, instances (HTTP 403) (Request-ID: re...   \n",
       "3                                                              waiting for Server to become ('ACTIVE')   \n",
       "4                                                              waiting for Server to become ('ACTIVE')   \n",
       "\n",
       "                                                                                                 _info  \\\n",
       "0  Rally tired waiting 1440.00 seconds for Server rally-9db3-aPln:176b6fd3-8a2d-4b60-a5bd-73575c4ad...   \n",
       "1  Quota exceeded for cores, instances: Requested 1, 1, but already used 10, 10 of 10, 10 cores, in...   \n",
       "2  Quota exceeded for cores, instances: Requested 1, 1, but already used 10, 10 of 10, 10 cores, in...   \n",
       "3  Rally tired waiting 1440.00 seconds for Server rally-15fc-N4mw:77640b75-df94-4e6d-91d6-3338fffcd...   \n",
       "4  Rally tired waiting 1440.00 seconds for Server rally-1c07-9a14:c7c5f878-2495-45bf-873d-da11b5d88...   \n",
       "\n",
       "   word_count  \n",
       "0          14  \n",
       "1          22  \n",
       "2          22  \n",
       "3          14  \n",
       "4          14  "
      ]
     },
     "execution_count": 9,
     "metadata": {},
     "output_type": "execute_result"
    }
   ],
   "source": [
    "data[\"word_count\"] = data._info.apply(lambda x:len(x.split(' ')))\n",
    "data.head()"
   ]
  },
  {
   "cell_type": "code",
   "execution_count": 8,
   "metadata": {},
   "outputs": [
    {
     "data": {
      "text/plain": [
       "array([\"Rally tired waiting 1440.00 seconds for Server rally-9db3-aPln:176b6fd3-8a2d-4b60-a5bd-73575c4ad161 to become ('ACTIVE') current status BUILD\",\n",
       "       'Quota exceeded for cores, instances: Requested 1, 1, but already used 10, 10 of 10, 10 cores, instances (HTTP 403) (Request-ID: req-23b5fe81-0bab-4f42-84e9-97e3e6847c04)',\n",
       "       'Quota exceeded for cores, instances: Requested 1, 1, but already used 10, 10 of 10, 10 cores, instances (HTTP 403) (Request-ID: req-f1b55ece-6bd1-475b-9692-7e443d44d52b)',\n",
       "       ...,\n",
       "       \"Rally tired waiting for Host ip:128.142.149.18 to become ('ICMP UP') current status ICMP DOWN\",\n",
       "       'Resource <Server: rally-0795-TZCm> has ERROR status. Fault: {u\\'message\\': u\"Request Failed: internal server error while processing your request.\\\\nNeutron server returns request_ids: [\\'req-e81f3444-c2fc-4456-ac9c-eba09662512a\\']\", u\\'code\\': 500, u\\'created\\': u\\'2018-04-05T22:50:03Z\\'}',\n",
       "       'Rally result is not a JSON. Cannot process results. <sep-rally-sep> Rally result is not a JSON. Cannot process results.'],\n",
       "      dtype=object)"
      ]
     },
     "execution_count": 8,
     "metadata": {},
     "output_type": "execute_result"
    }
   ],
   "source": [
    "msg_array = np.array(data._info.copy())\n",
    "msg_array"
   ]
  },
  {
   "cell_type": "code",
   "execution_count": 12,
   "metadata": {},
   "outputs": [],
   "source": [
    "class_by_len_set = set(data.word_count)"
   ]
  },
  {
   "cell_type": "code",
   "execution_count": 13,
   "metadata": {
    "scrolled": true
   },
   "outputs": [
    {
     "data": {
      "text/plain": [
       "{1,\n",
       " 2,\n",
       " 3,\n",
       " 4,\n",
       " 5,\n",
       " 6,\n",
       " 7,\n",
       " 8,\n",
       " 9,\n",
       " 10,\n",
       " 11,\n",
       " 12,\n",
       " 14,\n",
       " 15,\n",
       " 16,\n",
       " 17,\n",
       " 18,\n",
       " 19,\n",
       " 20,\n",
       " 21,\n",
       " 22,\n",
       " 23,\n",
       " 24,\n",
       " 25,\n",
       " 26,\n",
       " 27,\n",
       " 28,\n",
       " 29,\n",
       " 31,\n",
       " 32,\n",
       " 34,\n",
       " 35,\n",
       " 36,\n",
       " 37,\n",
       " 38,\n",
       " 39,\n",
       " 40,\n",
       " 41,\n",
       " 42,\n",
       " 43,\n",
       " 72,\n",
       " 73,\n",
       " 81,\n",
       " 118,\n",
       " 749}"
      ]
     },
     "execution_count": 13,
     "metadata": {},
     "output_type": "execute_result"
    }
   ],
   "source": [
    "class_by_len_set"
   ]
  },
  {
   "cell_type": "code",
   "execution_count": 15,
   "metadata": {},
   "outputs": [
    {
     "data": {
      "text/plain": [
       "7"
      ]
     },
     "execution_count": 15,
     "metadata": {},
     "output_type": "execute_result"
    }
   ],
   "source": [
    "# Taking the smallest one to test minhash algo\n",
    "len(data.query(\"word_count == 19\"))"
   ]
  },
  {
   "cell_type": "code",
   "execution_count": 16,
   "metadata": {},
   "outputs": [],
   "source": [
    "filtered_data = data.query(\"word_count == 19\")"
   ]
  },
  {
   "cell_type": "code",
   "execution_count": 17,
   "metadata": {},
   "outputs": [],
   "source": [
    "raw_msgs = filtered_data._info"
   ]
  },
  {
   "cell_type": "code",
   "execution_count": 18,
   "metadata": {},
   "outputs": [
    {
     "data": {
      "text/plain": [
       "19595    Resource <Server: rally-03d2-Pq0H> has ERROR status.  Fault: {u'message': u'internal error: clie...\n",
       "19683    Resource <Server: rally-a7ad-kpUm> has ERROR status.  Fault: {u'message': u'internal error: clie...\n",
       "23778    Resource <Server: rally-97fb-wWlm> has ERROR status.  Fault: {u'message': u'internal error: clie...\n",
       "24621    Resource <Server: rally-119c-PZVt> has ERROR status.  Fault: {u'message': u'internal error: clie...\n",
       "25940    Resource <Server: rally-d0e6-KIQi> has ERROR status.  Fault: {u'message': u'internal error: clie...\n",
       "26298    Resource <Server: rally-600e-FYGn> has ERROR status.  Fault: {u'message': u'internal error: clie...\n",
       "34443    Rally result is not a JSON. Cannot process results. <sep-rally-sep> Rally result is not a JSON. ...\n",
       "Name: _info, dtype: object"
      ]
     },
     "execution_count": 18,
     "metadata": {},
     "output_type": "execute_result"
    }
   ],
   "source": [
    "raw_msgs"
   ]
  },
  {
   "cell_type": "code",
   "execution_count": 28,
   "metadata": {},
   "outputs": [],
   "source": [
    "# raw_msgs = pd.DataFrame(raw_msgs, columns=[\"_info\"])"
   ]
  },
  {
   "cell_type": "code",
   "execution_count": 47,
   "metadata": {},
   "outputs": [
    {
     "name": "stdout",
     "output_type": "stream",
     "text": [
      "CPU times: user 4 µs, sys: 1 µs, total: 5 µs\n",
      "Wall time: 9.06 µs\n"
     ]
    }
   ],
   "source": [
    "# Generate the set of words of all raw messages\n",
    "message_set = []\n",
    "%time\n",
    "\n",
    "for item in np.array(raw_msgs):\n",
    "#     print(item)\n",
    "    item = str(item[0])\n",
    "    set_of_words = set(item.split(' '))\n",
    "    # Shingle size is set to 3 words\n",
    "    set_of_words = set(shingle_generator(item, 1))\n",
    "    message_set.append(set_of_words)"
   ]
  },
  {
   "cell_type": "code",
   "execution_count": 49,
   "metadata": {},
   "outputs": [],
   "source": [
    "import numpy as np\n",
    "import csv\n",
    "import pandas\n",
    "from datasketch import MinHash, MinHashLSH"
   ]
  },
  {
   "cell_type": "code",
   "execution_count": 50,
   "metadata": {},
   "outputs": [
    {
     "data": {
      "text/plain": [
       "7"
      ]
     },
     "execution_count": 50,
     "metadata": {},
     "output_type": "execute_result"
    }
   ],
   "source": [
    "# Generate MinHash instances for all messages\n",
    "m = []\n",
    "for i in range (0, len(message_set)):\n",
    "    m_temp = MinHash(num_perm=128)\n",
    "    m.append(m_temp)\n",
    "len(m)"
   ]
  },
  {
   "cell_type": "code",
   "execution_count": 55,
   "metadata": {},
   "outputs": [],
   "source": [
    "i = 0\n",
    "for message in message_set:\n",
    "    for word in message:\n",
    "        m[i].update(word.encode('utf-8'))\n",
    "    i = i + 1"
   ]
  },
  {
   "cell_type": "code",
   "execution_count": 56,
   "metadata": {},
   "outputs": [
    {
     "name": "stdout",
     "output_type": "stream",
     "text": [
      "7\n"
     ]
    }
   ],
   "source": [
    "# Create an LSH index \n",
    "# %time\n",
    "lsh = MinHashLSH(threshold=0.01, num_perm=128)\n",
    "count = 0\n",
    "for i in range (0, len(m)):\n",
    "    string = \"m\" + str(i)\n",
    "    lsh.insert(string, m[i])\n",
    "    count += 1\n",
    "print (count)"
   ]
  },
  {
   "cell_type": "code",
   "execution_count": 60,
   "metadata": {},
   "outputs": [
    {
     "name": "stdout",
     "output_type": "stream",
     "text": [
      "CPU times: user 4 µs, sys: 1e+03 ns, total: 5 µs\n",
      "Wall time: 8.82 µs\n"
     ]
    },
    {
     "data": {
      "text/plain": [
       "['m0', 'm3', 'm2', 'm4', 'm5', 'm6', 'm1']"
      ]
     },
     "execution_count": 60,
     "metadata": {},
     "output_type": "execute_result"
    }
   ],
   "source": [
    "# Find all the messages similar to the fist message with a specified threshold\n",
    "%time\n",
    "result = lsh.query(m[1])\n",
    "(result)"
   ]
  },
  {
   "cell_type": "code",
   "execution_count": null,
   "metadata": {},
   "outputs": [],
   "source": []
  }
 ],
 "metadata": {
  "kernelspec": {
   "display_name": "Python 3",
   "language": "python",
   "name": "python3"
  },
  "language_info": {
   "codemirror_mode": {
    "name": "ipython",
    "version": 3
   },
   "file_extension": ".py",
   "mimetype": "text/x-python",
   "name": "python",
   "nbconvert_exporter": "python",
   "pygments_lexer": "ipython3",
   "version": "3.6.1"
  }
 },
 "nbformat": 4,
 "nbformat_minor": 2
}
