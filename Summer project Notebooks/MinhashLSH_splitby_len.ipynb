{
 "cells": [
  {
   "cell_type": "code",
   "execution_count": 2,
   "metadata": {},
   "outputs": [],
   "source": [
    "import pandas as pd\n",
    "import numpy as np\n",
    "import matplotlib\n",
    "import matplotlib.pyplot as plt\n",
    "%matplotlib inline\n",
    "pd.options.display.max_colwidth=300"
   ]
  },
  {
   "cell_type": "code",
   "execution_count": 3,
   "metadata": {},
   "outputs": [],
   "source": [
    "# Shingle generators \n",
    "# Arguments : Message string, shingle size {in words}\n",
    "# Returns : All shingles formed with k words\n",
    "def shingle_generator(message, k):\n",
    "    message = message.split(' ')\n",
    "    item_set = []\n",
    "    for i in range(0, len(message)-k):\n",
    "        shingle =  \"\"\n",
    "        for j in range(0, k):\n",
    "            shingle = shingle + message[i+j] + \" \"\n",
    "        item_set.append(shingle)\n",
    "    return item_set"
   ]
  },
  {
   "cell_type": "code",
   "execution_count": 4,
   "metadata": {},
   "outputs": [],
   "source": [
    "def jaccard_similarity(str1, str2):\n",
    "    string_set1 = set(str1.split(' '))\n",
    "    string_set2 = set(str2.split(' '))\n",
    "    return len(string_set1.intersection(string_set2))/len(string_set2.union(string_set1))"
   ]
  },
  {
   "cell_type": "code",
   "execution_count": 5,
   "metadata": {},
   "outputs": [],
   "source": [
    "# dump pkl into a pandas dataframe. \n",
    "data = pd.read_pickle('data/string_study.pkl')"
   ]
  },
  {
   "cell_type": "code",
   "execution_count": 6,
   "metadata": {
    "scrolled": true
   },
   "outputs": [],
   "source": [
    "data[\"word_count\"] = data._info.apply(lambda x:len(x.split(' ')))\n",
    "# data.head(7)"
   ]
  },
  {
   "cell_type": "code",
   "execution_count": 7,
   "metadata": {},
   "outputs": [],
   "source": [
    "msg_array = np.array(data._info.copy())\n",
    "# msg_array"
   ]
  },
  {
   "cell_type": "code",
   "execution_count": 8,
   "metadata": {},
   "outputs": [],
   "source": [
    "class_by_len_set = set(data.word_count)"
   ]
  },
  {
   "cell_type": "code",
   "execution_count": 9,
   "metadata": {
    "scrolled": true
   },
   "outputs": [],
   "source": [
    "# class_by_len_set"
   ]
  },
  {
   "cell_type": "code",
   "execution_count": 10,
   "metadata": {},
   "outputs": [
    {
     "data": {
      "text/plain": [
       "47"
      ]
     },
     "execution_count": 10,
     "metadata": {},
     "output_type": "execute_result"
    }
   ],
   "source": [
    "# Taking the smallest one to test minhash algo\n",
    "len(data.query(\"word_count == 21\"))"
   ]
  },
  {
   "cell_type": "code",
   "execution_count": 11,
   "metadata": {
    "scrolled": false
   },
   "outputs": [],
   "source": [
    "filtered_data = data.query(\"word_count == 21\")\n",
    "# filtered_data.head(47)"
   ]
  },
  {
   "cell_type": "code",
   "execution_count": 12,
   "metadata": {},
   "outputs": [
    {
     "data": {
      "text/plain": [
       "{'Build of instance xyz aborted: Service Unavailable (HTTP 503)',\n",
       " 'Connection to the hypervisor is broken on host: xyz.cern.ch',\n",
       " 'Script execution failed: Error running command {\"interpreter\": \"/bin/sh\", \"script_inline\": \"ping -c ',\n",
       " 'The server is currently unavailable. Please try again at a later time.<br /><br />    (HTTP 503) (Re',\n",
       " 'Unable to establish connection to https:some_url (\\\\\\'Connection aborted.\\\\\\', BadStatusLine(\"\\\\\\'\\\\\\'\",))'}"
      ]
     },
     "execution_count": 12,
     "metadata": {},
     "output_type": "execute_result"
    }
   ],
   "source": [
    "set(np.array(filtered_data.msg))"
   ]
  },
  {
   "cell_type": "code",
   "execution_count": 13,
   "metadata": {},
   "outputs": [
    {
     "data": {
      "text/plain": [
       "{0.0,\n",
       " 0.02564102564102564,\n",
       " 0.027777777777777776,\n",
       " 0.3125,\n",
       " 0.3225806451612903,\n",
       " 0.36666666666666664,\n",
       " 0.7391304347826086,\n",
       " 0.75,\n",
       " 0.8181818181818182,\n",
       " 1.0}"
      ]
     },
     "execution_count": 13,
     "metadata": {},
     "output_type": "execute_result"
    }
   ],
   "source": [
    "msg_array = np.array(filtered_data._info.copy())\n",
    "jaccard_sim_set = []\n",
    "jaccard_matrix = [[0 for i in range(len(msg_array))] for j in range(len(msg_array))]\n",
    "for i in range(0, len(msg_array)):\n",
    "    jaccard_matrix[i][i] = 1\n",
    "    for j in range(i+1, len(msg_array)):\n",
    "        jaccard_sim = jaccard_similarity(msg_array[i], msg_array[j])\n",
    "        jaccard_sim_set.append(jaccard_sim)\n",
    "        jaccard_matrix[i][j] = jaccard_sim\n",
    "        jaccard_matrix[j][i] = jaccard_sim\n",
    "set(jaccard_sim_set)"
   ]
  },
  {
   "cell_type": "code",
   "execution_count": 14,
   "metadata": {},
   "outputs": [
    {
     "data": {
      "text/plain": [
       "array([[<matplotlib.axes._subplots.AxesSubplot object at 0x120064320>]],\n",
       "      dtype=object)"
      ]
     },
     "execution_count": 14,
     "metadata": {},
     "output_type": "execute_result"
    },
    {
     "data": {
      "image/png": "[encoded data removed]",
      "text/plain": [
       "<Figure size 432x288 with 1 Axes>"
      ]
     },
     "metadata": {},
     "output_type": "display_data"
    }
   ],
   "source": [
    "jaccard_dataframe = pd.DataFrame(jaccard_sim_set)\n",
    "jaccard_dataframe.hist(bins = 3)"
   ]
  },
  {
   "cell_type": "code",
   "execution_count": 15,
   "metadata": {},
   "outputs": [],
   "source": [
    "raw_msgs = filtered_data._info"
   ]
  },
  {
   "cell_type": "code",
   "execution_count": 16,
   "metadata": {},
   "outputs": [],
   "source": [
    "# raw_msgs"
   ]
  },
  {
   "cell_type": "code",
   "execution_count": 17,
   "metadata": {},
   "outputs": [],
   "source": [
    "# raw_msgs = pd.DataFrame(raw_msgs, columns=[\"_info\"])"
   ]
  },
  {
   "cell_type": "code",
   "execution_count": 18,
   "metadata": {},
   "outputs": [],
   "source": [
    "# Generate the set of words of all raw messages\n",
    "message_set = []\n",
    "# %time\n",
    "\n",
    "for item in np.array(raw_msgs):\n",
    "#     print(item)\n",
    "    item = str(item)\n",
    "    set_of_words = set(item.split(' '))\n",
    "    # Shingle size is set to 3 words\n",
    "    set_of_words = set(shingle_generator(item, 2))\n",
    "    message_set.append(set_of_words)\n"
   ]
  },
  {
   "cell_type": "code",
   "execution_count": 19,
   "metadata": {},
   "outputs": [],
   "source": [
    "import numpy as np\n",
    "import csv\n",
    "import pandas\n",
    "from datasketch import MinHash, MinHashLSH"
   ]
  },
  {
   "cell_type": "code",
   "execution_count": 20,
   "metadata": {},
   "outputs": [
    {
     "data": {
      "text/plain": [
       "47"
      ]
     },
     "execution_count": 20,
     "metadata": {},
     "output_type": "execute_result"
    }
   ],
   "source": [
    "# Generate MinHash instances for all messages\n",
    "m = []\n",
    "for i in range (0, len(message_set)):\n",
    "    m_temp = MinHash(num_perm=128)\n",
    "    m.append(m_temp)\n",
    "len(m)"
   ]
  },
  {
   "cell_type": "code",
   "execution_count": 23,
   "metadata": {},
   "outputs": [],
   "source": [
    "i = 0\n",
    "for message in message_set:\n",
    "    for word in message:\n",
    "        m[i].update(word.encode('utf-8'))\n",
    "    i = i + 1"
   ]
  },
  {
   "cell_type": "code",
   "execution_count": 24,
   "metadata": {},
   "outputs": [
    {
     "name": "stdout",
     "output_type": "stream",
     "text": [
      "47\n"
     ]
    }
   ],
   "source": [
    "# Create an LSH indexb\n",
    "# %time\n",
    "lsh = MinHashLSH(threshold=.35, num_perm=128)\n",
    "count = 0\n",
    "for i in range (0, len(m)):\n",
    "    string = \"m\" + str(i)\n",
    "    lsh.insert(string, m[i])\n",
    "    count += 1\n",
    "print (count)"
   ]
  },
  {
   "cell_type": "code",
   "execution_count": 25,
   "metadata": {
    "scrolled": false
   },
   "outputs": [
    {
     "name": "stdout",
     "output_type": "stream",
     "text": [
      "CPU times: user 4 µs, sys: 1 µs, total: 5 µs\n",
      "Wall time: 9.78 µs\n"
     ]
    }
   ],
   "source": [
    "# Find all the messages similar to the fist message with a specified threshold\n",
    "%time\n",
    "result = lsh.query(m[0])\n",
    "# (result)"
   ]
  },
  {
   "cell_type": "code",
   "execution_count": 26,
   "metadata": {},
   "outputs": [],
   "source": [
    "# Repeat the clustering proc for every message. \n",
    "clusters = {}\n",
    "cluster_count = 1\n",
    "# For every message add the result to the cluster\n",
    "for i in range(0, len(m)):\n",
    "    # check if the message belongs to any cluster\n",
    "    msg_str = \"m\" + str(i)\n",
    "    flag = 1\n",
    "    for item in clusters.values():\n",
    "        if msg_str in item:\n",
    "            flag = 0\n",
    "            break\n",
    "    # End of check box\n",
    "    if flag:\n",
    "        result = lsh.query(m[i])\n",
    "        clusters[cluster_count] = result\n",
    "        cluster_count += 1"
   ]
  },
  {
   "cell_type": "code",
   "execution_count": 27,
   "metadata": {},
   "outputs": [
    {
     "data": {
      "text/plain": [
       "{1: ['m2',\n",
       "  'm8',\n",
       "  'm22',\n",
       "  'm0',\n",
       "  'm14',\n",
       "  'm17',\n",
       "  'm7',\n",
       "  'm15',\n",
       "  'm13',\n",
       "  'm27',\n",
       "  'm19',\n",
       "  'm21',\n",
       "  'm29',\n",
       "  'm6',\n",
       "  'm25',\n",
       "  'm9',\n",
       "  'm11',\n",
       "  'm3',\n",
       "  'm12',\n",
       "  'm4',\n",
       "  'm18',\n",
       "  'm5',\n",
       "  'm26',\n",
       "  'm20',\n",
       "  'm10',\n",
       "  'm16',\n",
       "  'm24',\n",
       "  'm23',\n",
       "  'm28'],\n",
       " 2: ['m1'],\n",
       " 3: ['m30',\n",
       "  'm36',\n",
       "  'm37',\n",
       "  'm39',\n",
       "  'm31',\n",
       "  'm42',\n",
       "  'm32',\n",
       "  'm34',\n",
       "  'm43',\n",
       "  'm41',\n",
       "  'm35',\n",
       "  'm40',\n",
       "  'm33',\n",
       "  'm44',\n",
       "  'm38'],\n",
       " 4: ['m45'],\n",
       " 5: ['m2',\n",
       "  'm8',\n",
       "  'm22',\n",
       "  'm46',\n",
       "  'm14',\n",
       "  'm17',\n",
       "  'm7',\n",
       "  'm15',\n",
       "  'm13',\n",
       "  'm27',\n",
       "  'm21',\n",
       "  'm29',\n",
       "  'm6',\n",
       "  'm25',\n",
       "  'm9',\n",
       "  'm11',\n",
       "  'm3',\n",
       "  'm12',\n",
       "  'm4',\n",
       "  'm5',\n",
       "  'm18',\n",
       "  'm26',\n",
       "  'm20',\n",
       "  'm10',\n",
       "  'm16',\n",
       "  'm24',\n",
       "  'm23',\n",
       "  'm28']}"
      ]
     },
     "execution_count": 27,
     "metadata": {},
     "output_type": "execute_result"
    }
   ],
   "source": [
    "clusters"
   ]
  },
  {
   "cell_type": "code",
   "execution_count": null,
   "metadata": {},
   "outputs": [],
   "source": []
  },
  {
   "cell_type": "code",
   "execution_count": null,
   "metadata": {},
   "outputs": [],
   "source": []
  },
  {
   "cell_type": "code",
   "execution_count": null,
   "metadata": {},
   "outputs": [],
   "source": []
  },
  {
   "cell_type": "code",
   "execution_count": null,
   "metadata": {},
   "outputs": [],
   "source": []
  }
 ],
 "metadata": {
  "kernelspec": {
   "display_name": "Python 3",
   "language": "python",
   "name": "python3"
  },
  "language_info": {
   "codemirror_mode": {
    "name": "ipython",
    "version": 3
   },
   "file_extension": ".py",
   "mimetype": "text/x-python",
   "name": "python",
   "nbconvert_exporter": "python",
   "pygments_lexer": "ipython3",
   "version": "3.6.1"
  }
 },
 "nbformat": 4,
 "nbformat_minor": 2
}
