{
 "cells": [
  {
   "cell_type": "code",
   "execution_count": 2,
   "metadata": {},
   "outputs": [],
   "source": [
    "import numpy\n",
    "import pandas"
   ]
  },
  {
   "cell_type": "code",
   "execution_count": 1,
   "metadata": {},
   "outputs": [],
   "source": [
    "def compare_files(file_1, file_2, print_messages=False):\n",
    "    # Check the intersection\n",
    "    intersection = []\n",
    "    for item in file_1:\n",
    "        if item in file_2:\n",
    "            intersection.append(item)\n",
    "    print \"The number of common messages: \" + str(len(intersection))\n",
    "\n",
    "    # Present in file 1  but not in file 2: \n",
    "    list_of_items1 = []\n",
    "    for item in file_1:\n",
    "        if item not in file_2:\n",
    "            list_of_items1.append(item)\n",
    "    print \"The number of messages in file1 but not in file2:\" + str(len(list_of_items1))\n",
    "    \n",
    "    # Present in file2 but not in file1\n",
    "    list_of_items2 = []\n",
    "    for item in file_2:\n",
    "        if item not in file_1:\n",
    "            list_of_items2.append(item)\n",
    "    print \"The number of messages in file2 but not in file1:\" + str(len(list_of_items2))\n",
    "    \n",
    "    if print_messages:\n",
    "        print \"Common messages:\"\n",
    "        print intersection\n",
    "        \n",
    "        print \"Messsges in file1 and not in file 2\"\n",
    "        print list_of_items1\n",
    "        \n",
    "        print \"Messages in file2 and not in file 1\"\n",
    "        print list_of_items2"
   ]
  },
  {
   "cell_type": "code",
   "execution_count": 6,
   "metadata": {},
   "outputs": [],
   "source": [
    "file_1 = []\n",
    "# Change the file name here\n",
    "file = open(\"min_hash_lsh_shingles_128_point1.txt\", \"r\")\n",
    "for item in file.readlines():\n",
    "    file_1.append(item)"
   ]
  },
  {
   "cell_type": "code",
   "execution_count": 7,
   "metadata": {},
   "outputs": [],
   "source": [
    "file_2 = []\n",
    "# Change the file name here\n",
    "file = open(\"min_hash_lsh_128_point1.txt\", \"r\")\n",
    "for item in file.readlines():\n",
    "    file_2.append(item)"
   ]
  },
  {
   "cell_type": "code",
   "execution_count": 8,
   "metadata": {},
   "outputs": [
    {
     "name": "stdout",
     "output_type": "stream",
     "text": [
      "File 1 contains:7717 items\n",
      "File 2 contains:9222 items\n"
     ]
    }
   ],
   "source": [
    "print \"File 1 contains:\" + str(len(file_1)) + \" items\"\n",
    "print \"File 2 contains:\" + str(len(file_2)) + \" items\""
   ]
  },
  {
   "cell_type": "code",
   "execution_count": 9,
   "metadata": {},
   "outputs": [
    {
     "name": "stdout",
     "output_type": "stream",
     "text": [
      "The number of common messages: 7715\n",
      "The number of messages in file1 but not in file2:2\n",
      "The number of messages in file2 but not in file1:1507\n"
     ]
    }
   ],
   "source": [
    "compare_files(file_1, file_2)"
   ]
  },
  {
   "cell_type": "code",
   "execution_count": null,
   "metadata": {},
   "outputs": [],
   "source": []
  },
  {
   "cell_type": "code",
   "execution_count": null,
   "metadata": {},
   "outputs": [],
   "source": []
  }
 ],
 "metadata": {
  "kernelspec": {
   "display_name": "Python 2",
   "language": "python",
   "name": "python2"
  },
  "language_info": {
   "codemirror_mode": {
    "name": "ipython",
    "version": 2
   },
   "file_extension": ".py",
   "mimetype": "text/x-python",
   "name": "python",
   "nbconvert_exporter": "python",
   "pygments_lexer": "ipython2",
   "version": "2.7.15"
  }
 },
 "nbformat": 4,
 "nbformat_minor": 2
}
