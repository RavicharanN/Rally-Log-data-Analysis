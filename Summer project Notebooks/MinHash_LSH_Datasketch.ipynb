{
 "cells": [
  {
   "cell_type": "code",
   "execution_count": 1,
   "metadata": {},
   "outputs": [],
   "source": [
    "import pandas\n",
    "import csv \n",
    "import numpy as np\n",
    "from datasketch import MinHash, MinHashLSH"
   ]
  },
  {
   "cell_type": "code",
   "execution_count": 2,
   "metadata": {},
   "outputs": [],
   "source": [
    "# dump the CSV file into a numpy array. \n",
    "csv_reader = pandas.read_csv('data/string_study.csv', delimiter=',', header=None)\n",
    "final_arr = csv_reader.values\n",
    "final_arr = np.array(final_arr)"
   ]
  },
  {
   "cell_type": "code",
   "execution_count": 3,
   "metadata": {},
   "outputs": [
    {
     "data": {
      "text/plain": [
       "array([['1524387149611', 'attach-volume', 'wig_project_003',\n",
       "        \"2018-04-22 10:52:29.611 17979 ERROR rallytester.rallytester [-] [nova attach-volume wig_project_003] Task failed:  Rally tired waiting 1440.00 seconds for Server rally-9db3-aPln:176b6fd3-8a2d-4b60-a5bd-73575c4ad161 to become ('ACTIVE') current status BUILD\",\n",
       "        '2018-04-22 08:00:00', \"waiting for Server to become ('ACTIVE')\",\n",
       "        \"Rally tired waiting 1440.00 seconds for Server rally-9db3-aPln:176b6fd3-8a2d-4b60-a5bd-73575c4ad161 to become ('ACTIVE') current status BUILD\"],\n",
       "       ['1524387185889', 'boot-from-volume-linux', 'gva_shared_016',\n",
       "        '2018-04-22 10:53:05.889 25667 ERROR rallytester.rallytester [-] [nova boot-from-volume-linux gva_shared_016] Task failed:  Quota exceeded for cores, instances: Requested 1, 1, but already used 10, 10 of 10, 10 cores, instances (HTTP 403) (Request-ID: req-23b5fe81-0bab-4f42-84e9-97e3e6847c04)',\n",
       "        '2018-04-22 08:00:00',\n",
       "        'Quota exceeded for cores, instances: Requested ..... cores, instances (HTTP 403) (Request-ID: req-xy',\n",
       "        'Quota exceeded for cores, instances: Requested 1, 1, but already used 10, 10 of 10, 10 cores, instances (HTTP 403) (Request-ID: req-23b5fe81-0bab-4f42-84e9-97e3e6847c04)'],\n",
       "       ['1524387196073', 'boot-linux', 'gva_shared_016',\n",
       "        '2018-04-22 10:53:16.073 25840 ERROR rallytester.rallytester [-] [nova boot-linux gva_shared_016] Task failed:  Quota exceeded for cores, instances: Requested 1, 1, but already used 10, 10 of 10, 10 cores, instances (HTTP 403) (Request-ID: req-f1b55ece-6bd1-475b-9692-7e443d44d52b)',\n",
       "        '2018-04-22 08:00:00',\n",
       "        'Quota exceeded for cores, instances: Requested ..... cores, instances (HTTP 403) (Request-ID: req-xy',\n",
       "        'Quota exceeded for cores, instances: Requested 1, 1, but already used 10, 10 of 10, 10 cores, instances (HTTP 403) (Request-ID: req-f1b55ece-6bd1-475b-9692-7e443d44d52b)']],\n",
       "      dtype=object)"
      ]
     },
     "execution_count": 3,
     "metadata": {},
     "output_type": "execute_result"
    }
   ],
   "source": [
    "final_arr[1:4]"
   ]
  },
  {
   "cell_type": "code",
   "execution_count": 4,
   "metadata": {},
   "outputs": [
    {
     "data": {
      "text/plain": [
       "array([\"Rally tired waiting 1440.00 seconds for Server rally-9db3-aPln:176b6fd3-8a2d-4b60-a5bd-73575c4ad161 to become ('ACTIVE') current status BUILD\"],\n",
       "      dtype=object)"
      ]
     },
     "execution_count": 4,
     "metadata": {},
     "output_type": "execute_result"
    }
   ],
   "source": [
    "# extract all the raw_messsages from the error logs\n",
    "raw_msgs = final_arr[0:, -1]\n",
    "raw_msgs.shape\n",
    "raw_msgs[1:2]"
   ]
  },
  {
   "cell_type": "code",
   "execution_count": 5,
   "metadata": {},
   "outputs": [
    {
     "data": {
      "text/plain": [
       "[{\"('ACTIVE')\",\n",
       "  '1440.00',\n",
       "  'BUILD',\n",
       "  'Rally',\n",
       "  'Server',\n",
       "  'become',\n",
       "  'current',\n",
       "  'for',\n",
       "  'rally-9db3-aPln:176b6fd3-8a2d-4b60-a5bd-73575c4ad161',\n",
       "  'seconds',\n",
       "  'status',\n",
       "  'tired',\n",
       "  'to',\n",
       "  'waiting'}]"
      ]
     },
     "execution_count": 5,
     "metadata": {},
     "output_type": "execute_result"
    }
   ],
   "source": [
    "# Generate the set of words of all raw messages\n",
    "message_set = []\n",
    "for item in raw_msgs:\n",
    "    set_of_words = set(item.split(' '))\n",
    "    message_set.append(set_of_words)\n",
    "message_set[1:2]"
   ]
  },
  {
   "cell_type": "code",
   "execution_count": 6,
   "metadata": {},
   "outputs": [],
   "source": [
    "# Generate MinHash instances for all messages\n",
    "m = []\n",
    "for i in range (0, len(message_set)):\n",
    "    m_temp = MinHash(num_perm=128)\n",
    "    m.append(m_temp)"
   ]
  },
  {
   "cell_type": "code",
   "execution_count": 7,
   "metadata": {},
   "outputs": [],
   "source": [
    "i = 0\n",
    "for message in message_set:\n",
    "    for word in message:\n",
    "        m[i].update(word.encode('utf-8'))\n",
    "    i = i + 1"
   ]
  },
  {
   "cell_type": "code",
   "execution_count": 19,
   "metadata": {},
   "outputs": [
    {
     "name": "stdout",
     "output_type": "stream",
     "text": [
      "CPU times: user 30 µs, sys: 1 µs, total: 31 µs\n",
      "Wall time: 33.1 µs\n"
     ]
    }
   ],
   "source": [
    "# Create an LSH index \n",
    "%time\n",
    "lsh = MinHashLSH(threshold=.01, num_perm=128)\n",
    "for i in range (1, len(m)):\n",
    "    string = \"m\" + str(i)\n",
    "    lsh.insert(string, m[i])"
   ]
  },
  {
   "cell_type": "code",
   "execution_count": 20,
   "metadata": {},
   "outputs": [
    {
     "data": {
      "text/plain": [
       "20610"
      ]
     },
     "execution_count": 20,
     "metadata": {},
     "output_type": "execute_result"
    }
   ],
   "source": [
    "# Find all the messages similar to the fist message with a specified threshold\n",
    "result = lsh.query(m[1])\n",
    "len(result)"
   ]
  },
  {
   "cell_type": "code",
   "execution_count": 21,
   "metadata": {},
   "outputs": [],
   "source": [
    "with open('min_hash_lsh_128_pointzero1.txt', 'w') as f:\n",
    "    for item in result:\n",
    "        f.write(\"%s\\n\" % item)"
   ]
  },
  {
   "cell_type": "code",
   "execution_count": 22,
   "metadata": {},
   "outputs": [
    {
     "data": {
      "text/plain": [
       "True"
      ]
     },
     "execution_count": 22,
     "metadata": {},
     "output_type": "execute_result"
    }
   ],
   "source": [
    "\"m1\" in result"
   ]
  },
  {
   "cell_type": "code",
   "execution_count": 23,
   "metadata": {},
   "outputs": [
    {
     "data": {
      "text/plain": [
       "True"
      ]
     },
     "execution_count": 23,
     "metadata": {},
     "output_type": "execute_result"
    }
   ],
   "source": [
    "\"m5217\" in result"
   ]
  },
  {
   "cell_type": "code",
   "execution_count": 24,
   "metadata": {},
   "outputs": [
    {
     "name": "stdout",
     "output_type": "stream",
     "text": [
      "Rally tired waiting 1440.00 seconds for Server rally-9db3-aPln:176b6fd3-8a2d-4b60-a5bd-73575c4ad161 to become ('ACTIVE') current status BUILD\n",
      "Rally tired waiting for Volume rally-a7d8-aHsP:889aec9f-0088-4cff-b6e2-a43e1715534a to become ('AVAILABLE') current status CREATING\n"
     ]
    }
   ],
   "source": [
    "print raw_msgs[1]\n",
    "print raw_msgs[14037]\n"
   ]
  },
  {
   "cell_type": "code",
   "execution_count": null,
   "metadata": {},
   "outputs": [],
   "source": []
  }
 ],
 "metadata": {
  "kernelspec": {
   "display_name": "Python 2",
   "language": "python",
   "name": "python2"
  },
  "language_info": {
   "codemirror_mode": {
    "name": "ipython",
    "version": 2
   },
   "file_extension": ".py",
   "mimetype": "text/x-python",
   "name": "python",
   "nbconvert_exporter": "python",
   "pygments_lexer": "ipython2",
   "version": "2.7.15"
  }
 },
 "nbformat": 4,
 "nbformat_minor": 2
}
