{
 "cells": [
  {
   "cell_type": "code",
   "execution_count": 12,
   "metadata": {},
   "outputs": [],
   "source": [
    "import pandas as pd\n",
    "import numpy as np\n",
    "import matplotlib\n",
    "import matplotlib.pyplot as plt\n",
    "%matplotlib inline\n",
    "pd.options.display.max_colwidth=300\n",
    "import numpy as np\n",
    "import csv\n",
    "from datasketch import MinHash, MinHashLSH"
   ]
  },
  {
   "cell_type": "code",
   "execution_count": 13,
   "metadata": {},
   "outputs": [],
   "source": [
    "# Shingle generators \n",
    "# Arguments : Message string, shingle size {in words}\n",
    "# Returns : All shingles formed with k words\n",
    "def shingle_generator(message, k):\n",
    "    message = message.split(' ')\n",
    "    item_set = []\n",
    "    for i in range(0, len(message)-k):\n",
    "        shingle =  \"\"\n",
    "        for j in range(0, k):\n",
    "            shingle = shingle + message[i+j] + \" \"\n",
    "        item_set.append(shingle)\n",
    "    return item_set\n",
    "\n",
    "def jaccard_similarity(str1, str2):\n",
    "    string_set1 = set(str1.split(' '))\n",
    "    string_set2 = set(str2.split(' '))\n",
    "    return len(string_set1.intersection(string_set2))/len(string_set2.union(string_set1))"
   ]
  },
  {
   "cell_type": "code",
   "execution_count": 14,
   "metadata": {},
   "outputs": [],
   "source": [
    "# dump pkl into a pandas dataframe. \n",
    "data = pd.read_pickle('data/string_study.pkl')\n",
    "data[\"word_count\"] = data._info.apply(lambda x:len(x.split(' ')))\n",
    "msg_array = np.array(data._info.copy())\n",
    "class_by_len_set = set(data.word_count)"
   ]
  },
  {
   "cell_type": "code",
   "execution_count": 22,
   "metadata": {},
   "outputs": [
    {
     "ename": "KeyboardInterrupt",
     "evalue": "",
     "output_type": "error",
     "traceback": [
      "\u001b[0;31m---------------------------------------------------------------------------\u001b[0m",
      "\u001b[0;31mKeyboardInterrupt\u001b[0m                         Traceback (most recent call last)",
      "\u001b[0;32m<ipython-input-22-f0d9b1a9f97f>\u001b[0m in \u001b[0;36m<module>\u001b[0;34m()\u001b[0m\n\u001b[1;32m     56\u001b[0m         \u001b[0mflag\u001b[0m \u001b[0;34m=\u001b[0m \u001b[0;36m1\u001b[0m\u001b[0;34m\u001b[0m\u001b[0m\n\u001b[1;32m     57\u001b[0m         \u001b[0;32mfor\u001b[0m \u001b[0mitem\u001b[0m \u001b[0;32min\u001b[0m \u001b[0mclusters\u001b[0m\u001b[0;34m.\u001b[0m\u001b[0mvalues\u001b[0m\u001b[0;34m(\u001b[0m\u001b[0;34m)\u001b[0m\u001b[0;34m:\u001b[0m\u001b[0;34m\u001b[0m\u001b[0m\n\u001b[0;32m---> 58\u001b[0;31m             \u001b[0;32mif\u001b[0m \u001b[0mmsg_str\u001b[0m \u001b[0;32min\u001b[0m \u001b[0mitem\u001b[0m\u001b[0;34m:\u001b[0m\u001b[0;34m\u001b[0m\u001b[0m\n\u001b[0m\u001b[1;32m     59\u001b[0m                 \u001b[0mflag\u001b[0m \u001b[0;34m=\u001b[0m \u001b[0;36m0\u001b[0m\u001b[0;34m\u001b[0m\u001b[0m\n\u001b[1;32m     60\u001b[0m                 \u001b[0;32mbreak\u001b[0m\u001b[0;34m\u001b[0m\u001b[0m\n",
      "\u001b[0;31mKeyboardInterrupt\u001b[0m: "
     ]
    }
   ],
   "source": [
    "# For every item in the class len set, \n",
    "# query and cluster\n",
    "final_cluster = {}\n",
    "for word_len in class_by_len_set:\n",
    "    query_str = \"word_count == \" + str(word_len)\n",
    "#     print (\"new \"+ str(word_len))\n",
    "    filtered_data = data.query(query_str)\n",
    "#     msg_array = np.array(filtered_data._info.copy())\n",
    "#     jaccard_sim_set = []\n",
    "#     jaccard_matrix = [[0 for i in range(len(msg_array))] for j in range(len(msg_array))]\n",
    "#     for i in range(0, len(msg_array)):\n",
    "#         jaccard_matrix[i][i] = 1\n",
    "#         for j in range(i+1, len(msg_array)):\n",
    "#             jaccard_sim = jaccard_similarity(msg_array[i], msg_array[j])\n",
    "#             jaccard_sim_set.append(jaccard_sim)\n",
    "#             jaccard_matrix[i][j] = jaccard_sim\n",
    "#             jaccard_matrix[j][i] = jaccard_sim\n",
    "#     jaccard_dataframe = pd.DataFrame(jaccard_sim_set)\n",
    "    raw_msgs = filtered_data._info\n",
    "    \n",
    "    # Generate the set of words of all raw messages\n",
    "    message_set = []\n",
    "    for item in np.array(raw_msgs):\n",
    "        item = str(item)\n",
    "#         set_of_words = set(item.split(' '))\n",
    "        set_of_words = set(shingle_generator(item, 2))\n",
    "        message_set.append(set_of_words)\n",
    "    # Generate MinHash instances for all messages\n",
    "    m = []\n",
    "    for i in range (0, len(raw_msgs)):\n",
    "        m_temp = MinHash(num_perm=128)\n",
    "        m.append(m_temp)\n",
    "\n",
    "    i = 0\n",
    "    for message in message_set:\n",
    "        for word in message:\n",
    "            m[i].update(word.encode('utf-8'))\n",
    "        i = i + 1\n",
    "    \n",
    "    lsh = MinHashLSH(threshold=.35, num_perm=128)\n",
    "    count = 0\n",
    "    # for i in range (0, len(m)):\n",
    "    for index, row in filtered_data.iterrows():\n",
    "        string = \"m\" + str(index)\n",
    "        lsh.insert(string, m[count])\n",
    "        count += 1\n",
    "#     print (count)\n",
    "\n",
    "    # Repeat the clustering proc for every message. \n",
    "    clusters = {}\n",
    "    cluster_count = 1\n",
    "    # For every message add the result to the cluster\n",
    "    for i in range(0, len(m)):\n",
    "        # check if the message belongs to any cluster\n",
    "        msg_str = \"m\" + str(i)\n",
    "        flag = 1\n",
    "        for item in clusters.values():\n",
    "            if msg_str in item:\n",
    "                flag = 0\n",
    "                break\n",
    "        # End of check box\n",
    "        if flag:\n",
    "            result = lsh.query(m[i])\n",
    "            clusters[cluster_count] = result\n",
    "            cluster_count += 1\n",
    "    \n",
    "    final_cluster.update(clusters)\n"
   ]
  },
  {
   "cell_type": "code",
   "execution_count": null,
   "metadata": {},
   "outputs": [],
   "source": []
  },
  {
   "cell_type": "code",
   "execution_count": null,
   "metadata": {},
   "outputs": [],
   "source": []
  }
 ],
 "metadata": {
  "kernelspec": {
   "display_name": "Python 3",
   "language": "python",
   "name": "python3"
  },
  "language_info": {
   "codemirror_mode": {
    "name": "ipython",
    "version": 3
   },
   "file_extension": ".py",
   "mimetype": "text/x-python",
   "name": "python",
   "nbconvert_exporter": "python",
   "pygments_lexer": "ipython3",
   "version": "3.6.1"
  }
 },
 "nbformat": 4,
 "nbformat_minor": 2
}
