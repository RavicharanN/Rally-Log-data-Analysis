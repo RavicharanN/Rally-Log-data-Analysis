{
 "cells": [
  {
   "cell_type": "code",
   "execution_count": 134,
   "metadata": {},
   "outputs": [],
   "source": [
    "import pandas as pd\n",
    "import numpy as np\n",
    "import matplotlib\n",
    "import matplotlib.pyplot as plt\n",
    "%matplotlib inline\n",
    "pd.options.display.max_colwidth=100"
   ]
  },
  {
   "cell_type": "code",
   "execution_count": 135,
   "metadata": {},
   "outputs": [],
   "source": [
    "def jaccard_similarity(str1, str2):\n",
    "    string_set1 = set(str1.split(' '))\n",
    "    string_set2 = set(str2.split(' '))\n",
    "    return len(string_set1.intersection(string_set2))/len(string_set2.union(string_set1))"
   ]
  },
  {
   "cell_type": "code",
   "execution_count": 136,
   "metadata": {},
   "outputs": [],
   "source": [
    "# dump pkl into a pandas dataframe. \n",
    "data = pd.read_pickle('data/string_study.pkl')"
   ]
  },
  {
   "cell_type": "code",
   "execution_count": 137,
   "metadata": {},
   "outputs": [],
   "source": [
    "# data.head()"
   ]
  },
  {
   "cell_type": "code",
   "execution_count": 138,
   "metadata": {},
   "outputs": [],
   "source": [
    "data[\"word_count\"] = data._info.apply(lambda x:len(x.split(' ')))"
   ]
  },
  {
   "cell_type": "code",
   "execution_count": 139,
   "metadata": {},
   "outputs": [],
   "source": [
    "# data.head()"
   ]
  },
  {
   "cell_type": "code",
   "execution_count": 140,
   "metadata": {},
   "outputs": [],
   "source": [
    "class_by_len = set(data[\"word_count\"])"
   ]
  },
  {
   "cell_type": "code",
   "execution_count": 141,
   "metadata": {},
   "outputs": [],
   "source": [
    "# class_by_len"
   ]
  },
  {
   "cell_type": "code",
   "execution_count": 142,
   "metadata": {},
   "outputs": [
    {
     "data": {
      "text/plain": [
       "45"
      ]
     },
     "execution_count": 142,
     "metadata": {},
     "output_type": "execute_result"
    }
   ],
   "source": [
    "bin_len = len(class_by_len)\n",
    "bin_len"
   ]
  },
  {
   "cell_type": "code",
   "execution_count": 143,
   "metadata": {},
   "outputs": [
    {
     "data": {
      "text/plain": [
       "<matplotlib.axes._subplots.AxesSubplot at 0x11fa20400>"
      ]
     },
     "execution_count": 143,
     "metadata": {},
     "output_type": "execute_result"
    },
    {
     "data": {
      "image/png": "[encoded data removed]",
      "text/plain": [
       "<Figure size 432x288 with 1 Axes>"
      ]
     },
     "metadata": {},
     "output_type": "display_data"
    }
   ],
   "source": [
    "# Analysis of messages categorized into words\n",
    "data.word_count.hist(bins = bin_len)"
   ]
  },
  {
   "cell_type": "code",
   "execution_count": 144,
   "metadata": {},
   "outputs": [],
   "source": [
    "# Find the class with highest freq. \n",
    "dict = {}\n",
    "for item in class_by_len:\n",
    "    temp_frame = np.array(data.query(\"word_count == @item\"))\n",
    "    dict[str(item)] = len(temp_frame)"
   ]
  },
  {
   "cell_type": "code",
   "execution_count": 145,
   "metadata": {},
   "outputs": [
    {
     "data": {
      "text/plain": [
       "{\"Server raised fault: \\\\'API#Device SERVER-E9656C94-7C97-4CC2-B949-38D0056C5D15 is currently BLOCKED a\",\n",
       " 'Unable to connect to LanDB\\\\nTraceback (most recent call last):\\\\n\\\\n  File \"/usr/lib/python2.7/site-pa'}"
      ]
     },
     "execution_count": 145,
     "metadata": {},
     "output_type": "execute_result"
    }
   ],
   "source": [
    "check_regex_msg = np.array(filtered_data.msg.copy())\n",
    "set(check_regex_msg)"
   ]
  },
  {
   "cell_type": "code",
   "execution_count": 146,
   "metadata": {},
   "outputs": [],
   "source": [
    "# The word_count with the highest frquncy is \"9\"\n",
    "filtered_data = data.query(\"word_count == 37\")\n",
    "# filtered_data.head(47)"
   ]
  },
  {
   "cell_type": "code",
   "execution_count": 147,
   "metadata": {},
   "outputs": [
    {
     "data": {
      "text/plain": [
       "array(['Resource <Server: rally-f598-ZkDr> has ERROR status.  Fault: {u\\'message\\': u\\'Server raised fault: \\\\\\'API#Device SERVER-E9656C94-7C97-4CC2-B949-38D0056C5D15 is currently BLOCKED and can not be updated.\\\\n\\\\\\'\\\\nTraceback (most recent call last):\\\\n\\\\n  File \"/usr/lib/python2.7/site-packages/oslo_messaging/rpc/server.py\", line 155, in _process_i\\', u\\'code\\': 500, u\\'created\\': u\\'2018-04-18T16:04:47Z\\'}',\n",
       "       'Resource <Server: rally-3a2c-rWlq> has ERROR status. Fault: {u\\'message\\': u\\'Unable to connect to LanDB\\\\nTraceback (most recent call last):\\\\n\\\\n  File \"/usr/lib/python2.7/site-packages/oslo_messaging/rpc/server.py\", line 155, in _process_incoming\\\\n    res = self.dispatcher.dispatch(message)\\\\n\\\\n  File \"/usr/lib/python2.7/site-packages/osl\\', u\\'code\\': 500, u\\'created\\': u\\'2018-04-10T21:53:13Z\\'}'],\n",
       "      dtype=object)"
      ]
     },
     "execution_count": 147,
     "metadata": {},
     "output_type": "execute_result"
    }
   ],
   "source": [
    "msg_array = np.array(filtered_data._info.copy())\n",
    "msg_array"
   ]
  },
  {
   "cell_type": "code",
   "execution_count": 148,
   "metadata": {},
   "outputs": [],
   "source": [
    "msg_array = np.array(filtered_data._info.copy())\n",
    "jaccard_sim_set = []\n",
    "jaccard_matrix = [[0 for i in range(len(msg_array))] for j in range(len(msg_array))]\n",
    "for i in range(0, len(msg_array)):\n",
    "    jaccard_matrix[i][i] = 1\n",
    "    for j in range(i+1, len(msg_array)):\n",
    "        jaccard_sim = jaccard_similarity(msg_array[i], msg_array[j])\n",
    "        jaccard_sim_set.append(jaccard_sim)\n",
    "        jaccard_matrix[i][j] = jaccard_sim\n",
    "        jaccard_matrix[j][i] = jaccard_sim"
   ]
  },
  {
   "cell_type": "code",
   "execution_count": 149,
   "metadata": {},
   "outputs": [
    {
     "data": {
      "text/plain": [
       "2"
      ]
     },
     "execution_count": 149,
     "metadata": {},
     "output_type": "execute_result"
    }
   ],
   "source": [
    "\n",
    "# Number of classes according to the Regex split\n",
    "len(set(np.array(filtered_data.msg)))"
   ]
  },
  {
   "cell_type": "code",
   "execution_count": 150,
   "metadata": {},
   "outputs": [
    {
     "data": {
      "text/plain": [
       "1"
      ]
     },
     "execution_count": 150,
     "metadata": {},
     "output_type": "execute_result"
    }
   ],
   "source": [
    "len(set(jaccard_sim_set))\n",
    "bin_len_jacc = len(set(jaccard_sim_set))\n",
    "bin_len_jacc"
   ]
  },
  {
   "cell_type": "code",
   "execution_count": 151,
   "metadata": {},
   "outputs": [
    {
     "data": {
      "text/plain": [
       "[0.425531914893617]"
      ]
     },
     "execution_count": 151,
     "metadata": {},
     "output_type": "execute_result"
    }
   ],
   "source": [
    "# Optimum thresold value to produce the numberof classes same as in that of the labelled data \n",
    "opti_thres = sum((jaccard_sim_set))/len((jaccard_sim_set))\n",
    "# Check all the values in the jaccard similarities set\n",
    "jaccard_sim_set"
   ]
  },
  {
   "cell_type": "code",
   "execution_count": 152,
   "metadata": {},
   "outputs": [],
   "source": [
    "jaccard_dataframe = pd.DataFrame(jaccard_sim_set)"
   ]
  },
  {
   "cell_type": "code",
   "execution_count": 153,
   "metadata": {},
   "outputs": [
    {
     "data": {
      "text/plain": [
       "array([[<matplotlib.axes._subplots.AxesSubplot object at 0x126c46e10>]],\n",
       "      dtype=object)"
      ]
     },
     "execution_count": 153,
     "metadata": {},
     "output_type": "execute_result"
    },
    {
     "data": {
      "image/png": "[encoded data removed]",
      "text/plain": [
       "<Figure size 432x288 with 1 Axes>"
      ]
     },
     "metadata": {},
     "output_type": "display_data"
    }
   ],
   "source": [
    "jaccard_dataframe.hist(bins = bin_len_jacc)"
   ]
  },
  {
   "cell_type": "code",
   "execution_count": 154,
   "metadata": {},
   "outputs": [],
   "source": [
    "# jaccard_matrix[-1][-3] "
   ]
  },
  {
   "cell_type": "markdown",
   "metadata": {},
   "source": [
    "#      Minhashing starts here\n"
   ]
  },
  {
   "cell_type": "code",
   "execution_count": 155,
   "metadata": {},
   "outputs": [],
   "source": [
    "# Shingle generators \n",
    "# Arguments : Message string, shingle size {in words}\n",
    "# Returns : All shingles formed with k words\n",
    "def shingle_generator(message, k):\n",
    "    message = message.split(' ')\n",
    "    item_set = []\n",
    "    for i in range(0, len(message)-k):\n",
    "        shingle =  \"\"\n",
    "        for j in range(0, k):\n",
    "            shingle = shingle + message[i+j] + \" \"\n",
    "        item_set.append(shingle)\n",
    "    return item_set"
   ]
  },
  {
   "cell_type": "code",
   "execution_count": 156,
   "metadata": {},
   "outputs": [],
   "source": [
    "raw_msgs = filtered_data._info"
   ]
  },
  {
   "cell_type": "code",
   "execution_count": 157,
   "metadata": {},
   "outputs": [],
   "source": [
    "# Generate the set of words of all raw messages\n",
    "message_set = []\n",
    "# %time\n",
    "\n",
    "for item in np.array(raw_msgs):\n",
    "#     print(item)\n",
    "    item = str(item)\n",
    "    set_of_words = set(item.split(' '))\n",
    "    # Shingle size is set to 3 words\n",
    "    set_of_words = set(shingle_generator(item, 2))\n",
    "    message_set.append(set_of_words)"
   ]
  },
  {
   "cell_type": "code",
   "execution_count": 158,
   "metadata": {},
   "outputs": [],
   "source": [
    "import numpy as np\n",
    "import csv\n",
    "import pandas\n",
    "from datasketch import MinHash, MinHashLSH"
   ]
  },
  {
   "cell_type": "code",
   "execution_count": 159,
   "metadata": {},
   "outputs": [
    {
     "data": {
      "text/plain": [
       "2"
      ]
     },
     "execution_count": 159,
     "metadata": {},
     "output_type": "execute_result"
    }
   ],
   "source": [
    "# Generate MinHash instances for all messages\n",
    "m = []\n",
    "for i in range (0, len(message_set)):\n",
    "    m_temp = MinHash(num_perm=128)\n",
    "    m.append(m_temp)\n",
    "len(m)"
   ]
  },
  {
   "cell_type": "code",
   "execution_count": 160,
   "metadata": {},
   "outputs": [],
   "source": [
    "i = 0\n",
    "for message in message_set:\n",
    "    for word in message:\n",
    "        m[i].update(word.encode('utf-8'))\n",
    "    i = i + 1\n",
    "\n",
    "# Create an LSH indexb\n",
    "# %time\n",
    "lsh = MinHashLSH(threshold=.2, num_perm=128)\n",
    "count = 0\n",
    "for i in range (0, len(m)):\n",
    "    string = \"m\" + str(i)\n",
    "    lsh.insert(string, m[i])\n",
    "    count += 1"
   ]
  },
  {
   "cell_type": "code",
   "execution_count": 161,
   "metadata": {},
   "outputs": [],
   "source": [
    "# Find all the messages similar to the fist message with a specified threshold\n",
    "result = lsh.query(m[0])\n",
    "# (result)"
   ]
  },
  {
   "cell_type": "code",
   "execution_count": 162,
   "metadata": {},
   "outputs": [],
   "source": [
    "# Repeat the clustering proc for every message. \n",
    "clusters = {}\n",
    "cluster_count = 1\n",
    "# For every message add the result to the cluster\n",
    "for i in range(0, len(m)):\n",
    "    # check if the message belongs to any cluster\n",
    "    msg_str = \"m\" + str(i)\n",
    "    flag = 1\n",
    "    for item in clusters.values():\n",
    "        if msg_str in item:\n",
    "            flag = 0\n",
    "            break\n",
    "    # End of check box\n",
    "    if flag:\n",
    "        result = lsh.query(m[i])\n",
    "        clusters[cluster_count] = result\n",
    "        cluster_count += 1"
   ]
  },
  {
   "cell_type": "code",
   "execution_count": 163,
   "metadata": {},
   "outputs": [
    {
     "data": {
      "text/plain": [
       "{1: ['m1', 'm0']}"
      ]
     },
     "execution_count": 163,
     "metadata": {},
     "output_type": "execute_result"
    }
   ],
   "source": [
    "clusters"
   ]
  },
  {
   "cell_type": "code",
   "execution_count": null,
   "metadata": {},
   "outputs": [],
   "source": []
  },
  {
   "cell_type": "code",
   "execution_count": null,
   "metadata": {},
   "outputs": [],
   "source": []
  },
  {
   "cell_type": "code",
   "execution_count": null,
   "metadata": {},
   "outputs": [],
   "source": []
  },
  {
   "cell_type": "code",
   "execution_count": null,
   "metadata": {},
   "outputs": [],
   "source": []
  }
 ],
 "metadata": {
  "kernelspec": {
   "display_name": "Python 3",
   "language": "python",
   "name": "python3"
  },
  "language_info": {
   "codemirror_mode": {
    "name": "ipython",
    "version": 3
   },
   "file_extension": ".py",
   "mimetype": "text/x-python",
   "name": "python",
   "nbconvert_exporter": "python",
   "pygments_lexer": "ipython3",
   "version": "3.6.1"
  }
 },
 "nbformat": 4,
 "nbformat_minor": 2
}
