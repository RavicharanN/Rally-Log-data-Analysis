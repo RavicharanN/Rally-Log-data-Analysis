{
 "cells": [
  {
   "cell_type": "code",
   "execution_count": 2,
   "metadata": {},
   "outputs": [],
   "source": [
    "import pandas as pd\n",
    "import numpy as np\n",
    "import matplotlib\n",
    "import matplotlib.pyplot as plt\n",
    "%matplotlib inline\n",
    "pd.options.display.max_colwidth=100"
   ]
  },
  {
   "cell_type": "code",
   "execution_count": 3,
   "metadata": {},
   "outputs": [],
   "source": [
    "def jaccard_similarity(str1, str2):\n",
    "    string_set1 = set(str1.split(' '))\n",
    "    string_set2 = set(str2.split(' '))\n",
    "    return len(string_set1.intersection(string_set2))/len(string_set2.union(string_set1))"
   ]
  },
  {
   "cell_type": "code",
   "execution_count": 4,
   "metadata": {},
   "outputs": [],
   "source": [
    "# dump pkl into a pandas dataframe. \n",
    "data = pd.read_pickle('data/string_study.pkl')"
   ]
  },
  {
   "cell_type": "code",
   "execution_count": 5,
   "metadata": {},
   "outputs": [
    {
     "data": {
      "text/html": [
       "<div>\n",
       "<style scoped>\n",
       "    .dataframe tbody tr th:only-of-type {\n",
       "        vertical-align: middle;\n",
       "    }\n",
       "\n",
       "    .dataframe tbody tr th {\n",
       "        vertical-align: top;\n",
       "    }\n",
       "\n",
       "    .dataframe thead th {\n",
       "        text-align: right;\n",
       "    }\n",
       "</style>\n",
       "<table border=\"1\" class=\"dataframe\">\n",
       "  <thead>\n",
       "    <tr style=\"text-align: right;\">\n",
       "      <th></th>\n",
       "      <th>atime</th>\n",
       "      <th>task</th>\n",
       "      <th>deployment</th>\n",
       "      <th>raw</th>\n",
       "      <th>dtime</th>\n",
       "      <th>msg</th>\n",
       "      <th>_info</th>\n",
       "    </tr>\n",
       "  </thead>\n",
       "  <tbody>\n",
       "    <tr>\n",
       "      <th>0</th>\n",
       "      <td>1524387149611</td>\n",
       "      <td>attach-volume</td>\n",
       "      <td>wig_project_003</td>\n",
       "      <td>2018-04-22 10:52:29.611 17979 ERROR rallytester.rallytester [-] [nova attach-volume wig_project_...</td>\n",
       "      <td>2018-04-22 08:00:00</td>\n",
       "      <td>waiting for Server to become ('ACTIVE')</td>\n",
       "      <td>Rally tired waiting 1440.00 seconds for Server rally-9db3-aPln:176b6fd3-8a2d-4b60-a5bd-73575c4ad...</td>\n",
       "    </tr>\n",
       "    <tr>\n",
       "      <th>1</th>\n",
       "      <td>1524387185889</td>\n",
       "      <td>boot-from-volume-linux</td>\n",
       "      <td>gva_shared_016</td>\n",
       "      <td>2018-04-22 10:53:05.889 25667 ERROR rallytester.rallytester [-] [nova boot-from-volume-linux gva...</td>\n",
       "      <td>2018-04-22 08:00:00</td>\n",
       "      <td>Quota exceeded for cores, instances: Requested ..... cores, instances (HTTP 403) (Request-ID: re...</td>\n",
       "      <td>Quota exceeded for cores, instances: Requested 1, 1, but already used 10, 10 of 10, 10 cores, in...</td>\n",
       "    </tr>\n",
       "    <tr>\n",
       "      <th>2</th>\n",
       "      <td>1524387196073</td>\n",
       "      <td>boot-linux</td>\n",
       "      <td>gva_shared_016</td>\n",
       "      <td>2018-04-22 10:53:16.073 25840 ERROR rallytester.rallytester [-] [nova boot-linux gva_shared_016]...</td>\n",
       "      <td>2018-04-22 08:00:00</td>\n",
       "      <td>Quota exceeded for cores, instances: Requested ..... cores, instances (HTTP 403) (Request-ID: re...</td>\n",
       "      <td>Quota exceeded for cores, instances: Requested 1, 1, but already used 10, 10 of 10, 10 cores, in...</td>\n",
       "    </tr>\n",
       "    <tr>\n",
       "      <th>3</th>\n",
       "      <td>1524387321429</td>\n",
       "      <td>boot-linux</td>\n",
       "      <td>gva_project_013</td>\n",
       "      <td>2018-04-22 10:55:21.429 19322 ERROR rallytester.rallytester [-] [nova boot-linux gva_project_013...</td>\n",
       "      <td>2018-04-22 08:00:00</td>\n",
       "      <td>waiting for Server to become ('ACTIVE')</td>\n",
       "      <td>Rally tired waiting 1440.00 seconds for Server rally-15fc-N4mw:77640b75-df94-4e6d-91d6-3338fffcd...</td>\n",
       "    </tr>\n",
       "    <tr>\n",
       "      <th>4</th>\n",
       "      <td>1524387330897</td>\n",
       "      <td>attach-volume</td>\n",
       "      <td>gva_project_023</td>\n",
       "      <td>2018-04-22 10:55:30.897 19363 ERROR rallytester.rallytester [-] [nova attach-volume gva_project_...</td>\n",
       "      <td>2018-04-22 08:00:00</td>\n",
       "      <td>waiting for Server to become ('ACTIVE')</td>\n",
       "      <td>Rally tired waiting 1440.00 seconds for Server rally-1c07-9a14:c7c5f878-2495-45bf-873d-da11b5d88...</td>\n",
       "    </tr>\n",
       "  </tbody>\n",
       "</table>\n",
       "</div>"
      ],
      "text/plain": [
       "           atime                    task       deployment  \\\n",
       "0  1524387149611           attach-volume  wig_project_003   \n",
       "1  1524387185889  boot-from-volume-linux   gva_shared_016   \n",
       "2  1524387196073              boot-linux   gva_shared_016   \n",
       "3  1524387321429              boot-linux  gva_project_013   \n",
       "4  1524387330897           attach-volume  gva_project_023   \n",
       "\n",
       "                                                                                                   raw  \\\n",
       "0  2018-04-22 10:52:29.611 17979 ERROR rallytester.rallytester [-] [nova attach-volume wig_project_...   \n",
       "1  2018-04-22 10:53:05.889 25667 ERROR rallytester.rallytester [-] [nova boot-from-volume-linux gva...   \n",
       "2  2018-04-22 10:53:16.073 25840 ERROR rallytester.rallytester [-] [nova boot-linux gva_shared_016]...   \n",
       "3  2018-04-22 10:55:21.429 19322 ERROR rallytester.rallytester [-] [nova boot-linux gva_project_013...   \n",
       "4  2018-04-22 10:55:30.897 19363 ERROR rallytester.rallytester [-] [nova attach-volume gva_project_...   \n",
       "\n",
       "                dtime  \\\n",
       "0 2018-04-22 08:00:00   \n",
       "1 2018-04-22 08:00:00   \n",
       "2 2018-04-22 08:00:00   \n",
       "3 2018-04-22 08:00:00   \n",
       "4 2018-04-22 08:00:00   \n",
       "\n",
       "                                                                                                   msg  \\\n",
       "0                                                              waiting for Server to become ('ACTIVE')   \n",
       "1  Quota exceeded for cores, instances: Requested ..... cores, instances (HTTP 403) (Request-ID: re...   \n",
       "2  Quota exceeded for cores, instances: Requested ..... cores, instances (HTTP 403) (Request-ID: re...   \n",
       "3                                                              waiting for Server to become ('ACTIVE')   \n",
       "4                                                              waiting for Server to become ('ACTIVE')   \n",
       "\n",
       "                                                                                                 _info  \n",
       "0  Rally tired waiting 1440.00 seconds for Server rally-9db3-aPln:176b6fd3-8a2d-4b60-a5bd-73575c4ad...  \n",
       "1  Quota exceeded for cores, instances: Requested 1, 1, but already used 10, 10 of 10, 10 cores, in...  \n",
       "2  Quota exceeded for cores, instances: Requested 1, 1, but already used 10, 10 of 10, 10 cores, in...  \n",
       "3  Rally tired waiting 1440.00 seconds for Server rally-15fc-N4mw:77640b75-df94-4e6d-91d6-3338fffcd...  \n",
       "4  Rally tired waiting 1440.00 seconds for Server rally-1c07-9a14:c7c5f878-2495-45bf-873d-da11b5d88...  "
      ]
     },
     "execution_count": 5,
     "metadata": {},
     "output_type": "execute_result"
    }
   ],
   "source": [
    "data.head()"
   ]
  },
  {
   "cell_type": "code",
   "execution_count": 8,
   "metadata": {},
   "outputs": [],
   "source": [
    "data[\"word_count\"] = data._info.apply(lambda x:len(x.split(' ')))"
   ]
  },
  {
   "cell_type": "code",
   "execution_count": 9,
   "metadata": {},
   "outputs": [
    {
     "data": {
      "text/html": [
       "<div>\n",
       "<style scoped>\n",
       "    .dataframe tbody tr th:only-of-type {\n",
       "        vertical-align: middle;\n",
       "    }\n",
       "\n",
       "    .dataframe tbody tr th {\n",
       "        vertical-align: top;\n",
       "    }\n",
       "\n",
       "    .dataframe thead th {\n",
       "        text-align: right;\n",
       "    }\n",
       "</style>\n",
       "<table border=\"1\" class=\"dataframe\">\n",
       "  <thead>\n",
       "    <tr style=\"text-align: right;\">\n",
       "      <th></th>\n",
       "      <th>atime</th>\n",
       "      <th>task</th>\n",
       "      <th>deployment</th>\n",
       "      <th>raw</th>\n",
       "      <th>dtime</th>\n",
       "      <th>msg</th>\n",
       "      <th>_info</th>\n",
       "      <th>word_count</th>\n",
       "    </tr>\n",
       "  </thead>\n",
       "  <tbody>\n",
       "    <tr>\n",
       "      <th>0</th>\n",
       "      <td>1524387149611</td>\n",
       "      <td>attach-volume</td>\n",
       "      <td>wig_project_003</td>\n",
       "      <td>2018-04-22 10:52:29.611 17979 ERROR rallytester.rallytester [-] [nova attach-volume wig_project_...</td>\n",
       "      <td>2018-04-22 08:00:00</td>\n",
       "      <td>waiting for Server to become ('ACTIVE')</td>\n",
       "      <td>Rally tired waiting 1440.00 seconds for Server rally-9db3-aPln:176b6fd3-8a2d-4b60-a5bd-73575c4ad...</td>\n",
       "      <td>14</td>\n",
       "    </tr>\n",
       "    <tr>\n",
       "      <th>1</th>\n",
       "      <td>1524387185889</td>\n",
       "      <td>boot-from-volume-linux</td>\n",
       "      <td>gva_shared_016</td>\n",
       "      <td>2018-04-22 10:53:05.889 25667 ERROR rallytester.rallytester [-] [nova boot-from-volume-linux gva...</td>\n",
       "      <td>2018-04-22 08:00:00</td>\n",
       "      <td>Quota exceeded for cores, instances: Requested ..... cores, instances (HTTP 403) (Request-ID: re...</td>\n",
       "      <td>Quota exceeded for cores, instances: Requested 1, 1, but already used 10, 10 of 10, 10 cores, in...</td>\n",
       "      <td>22</td>\n",
       "    </tr>\n",
       "    <tr>\n",
       "      <th>2</th>\n",
       "      <td>1524387196073</td>\n",
       "      <td>boot-linux</td>\n",
       "      <td>gva_shared_016</td>\n",
       "      <td>2018-04-22 10:53:16.073 25840 ERROR rallytester.rallytester [-] [nova boot-linux gva_shared_016]...</td>\n",
       "      <td>2018-04-22 08:00:00</td>\n",
       "      <td>Quota exceeded for cores, instances: Requested ..... cores, instances (HTTP 403) (Request-ID: re...</td>\n",
       "      <td>Quota exceeded for cores, instances: Requested 1, 1, but already used 10, 10 of 10, 10 cores, in...</td>\n",
       "      <td>22</td>\n",
       "    </tr>\n",
       "    <tr>\n",
       "      <th>3</th>\n",
       "      <td>1524387321429</td>\n",
       "      <td>boot-linux</td>\n",
       "      <td>gva_project_013</td>\n",
       "      <td>2018-04-22 10:55:21.429 19322 ERROR rallytester.rallytester [-] [nova boot-linux gva_project_013...</td>\n",
       "      <td>2018-04-22 08:00:00</td>\n",
       "      <td>waiting for Server to become ('ACTIVE')</td>\n",
       "      <td>Rally tired waiting 1440.00 seconds for Server rally-15fc-N4mw:77640b75-df94-4e6d-91d6-3338fffcd...</td>\n",
       "      <td>14</td>\n",
       "    </tr>\n",
       "    <tr>\n",
       "      <th>4</th>\n",
       "      <td>1524387330897</td>\n",
       "      <td>attach-volume</td>\n",
       "      <td>gva_project_023</td>\n",
       "      <td>2018-04-22 10:55:30.897 19363 ERROR rallytester.rallytester [-] [nova attach-volume gva_project_...</td>\n",
       "      <td>2018-04-22 08:00:00</td>\n",
       "      <td>waiting for Server to become ('ACTIVE')</td>\n",
       "      <td>Rally tired waiting 1440.00 seconds for Server rally-1c07-9a14:c7c5f878-2495-45bf-873d-da11b5d88...</td>\n",
       "      <td>14</td>\n",
       "    </tr>\n",
       "  </tbody>\n",
       "</table>\n",
       "</div>"
      ],
      "text/plain": [
       "           atime                    task       deployment  \\\n",
       "0  1524387149611           attach-volume  wig_project_003   \n",
       "1  1524387185889  boot-from-volume-linux   gva_shared_016   \n",
       "2  1524387196073              boot-linux   gva_shared_016   \n",
       "3  1524387321429              boot-linux  gva_project_013   \n",
       "4  1524387330897           attach-volume  gva_project_023   \n",
       "\n",
       "                                                                                                   raw  \\\n",
       "0  2018-04-22 10:52:29.611 17979 ERROR rallytester.rallytester [-] [nova attach-volume wig_project_...   \n",
       "1  2018-04-22 10:53:05.889 25667 ERROR rallytester.rallytester [-] [nova boot-from-volume-linux gva...   \n",
       "2  2018-04-22 10:53:16.073 25840 ERROR rallytester.rallytester [-] [nova boot-linux gva_shared_016]...   \n",
       "3  2018-04-22 10:55:21.429 19322 ERROR rallytester.rallytester [-] [nova boot-linux gva_project_013...   \n",
       "4  2018-04-22 10:55:30.897 19363 ERROR rallytester.rallytester [-] [nova attach-volume gva_project_...   \n",
       "\n",
       "                dtime  \\\n",
       "0 2018-04-22 08:00:00   \n",
       "1 2018-04-22 08:00:00   \n",
       "2 2018-04-22 08:00:00   \n",
       "3 2018-04-22 08:00:00   \n",
       "4 2018-04-22 08:00:00   \n",
       "\n",
       "                                                                                                   msg  \\\n",
       "0                                                              waiting for Server to become ('ACTIVE')   \n",
       "1  Quota exceeded for cores, instances: Requested ..... cores, instances (HTTP 403) (Request-ID: re...   \n",
       "2  Quota exceeded for cores, instances: Requested ..... cores, instances (HTTP 403) (Request-ID: re...   \n",
       "3                                                              waiting for Server to become ('ACTIVE')   \n",
       "4                                                              waiting for Server to become ('ACTIVE')   \n",
       "\n",
       "                                                                                                 _info  \\\n",
       "0  Rally tired waiting 1440.00 seconds for Server rally-9db3-aPln:176b6fd3-8a2d-4b60-a5bd-73575c4ad...   \n",
       "1  Quota exceeded for cores, instances: Requested 1, 1, but already used 10, 10 of 10, 10 cores, in...   \n",
       "2  Quota exceeded for cores, instances: Requested 1, 1, but already used 10, 10 of 10, 10 cores, in...   \n",
       "3  Rally tired waiting 1440.00 seconds for Server rally-15fc-N4mw:77640b75-df94-4e6d-91d6-3338fffcd...   \n",
       "4  Rally tired waiting 1440.00 seconds for Server rally-1c07-9a14:c7c5f878-2495-45bf-873d-da11b5d88...   \n",
       "\n",
       "   word_count  \n",
       "0          14  \n",
       "1          22  \n",
       "2          22  \n",
       "3          14  \n",
       "4          14  "
      ]
     },
     "execution_count": 9,
     "metadata": {},
     "output_type": "execute_result"
    }
   ],
   "source": [
    "data.head()"
   ]
  },
  {
   "cell_type": "code",
   "execution_count": 10,
   "metadata": {},
   "outputs": [],
   "source": [
    "class_by_len = set(data[\"word_count\"])"
   ]
  },
  {
   "cell_type": "code",
   "execution_count": 11,
   "metadata": {},
   "outputs": [
    {
     "data": {
      "text/plain": [
       "{1,\n",
       " 2,\n",
       " 3,\n",
       " 4,\n",
       " 5,\n",
       " 6,\n",
       " 7,\n",
       " 8,\n",
       " 9,\n",
       " 10,\n",
       " 11,\n",
       " 12,\n",
       " 14,\n",
       " 15,\n",
       " 16,\n",
       " 17,\n",
       " 18,\n",
       " 19,\n",
       " 20,\n",
       " 21,\n",
       " 22,\n",
       " 23,\n",
       " 24,\n",
       " 25,\n",
       " 26,\n",
       " 27,\n",
       " 28,\n",
       " 29,\n",
       " 31,\n",
       " 32,\n",
       " 34,\n",
       " 35,\n",
       " 36,\n",
       " 37,\n",
       " 38,\n",
       " 39,\n",
       " 40,\n",
       " 41,\n",
       " 42,\n",
       " 43,\n",
       " 72,\n",
       " 73,\n",
       " 81,\n",
       " 118,\n",
       " 749}"
      ]
     },
     "execution_count": 11,
     "metadata": {},
     "output_type": "execute_result"
    }
   ],
   "source": [
    "class_by_len"
   ]
  },
  {
   "cell_type": "code",
   "execution_count": 12,
   "metadata": {},
   "outputs": [
    {
     "data": {
      "text/plain": [
       "45"
      ]
     },
     "execution_count": 12,
     "metadata": {},
     "output_type": "execute_result"
    }
   ],
   "source": [
    "bin_len = len(class_by_len)\n",
    "bin_len"
   ]
  },
  {
   "cell_type": "code",
   "execution_count": 13,
   "metadata": {},
   "outputs": [
    {
     "data": {
      "text/plain": [
       "<matplotlib.axes._subplots.AxesSubplot at 0x121096d30>"
      ]
     },
     "execution_count": 13,
     "metadata": {},
     "output_type": "execute_result"
    },
    {
     "data": {
      "image/png": "[encoded data removed]",
      "text/plain": [
       "<Figure size 432x288 with 1 Axes>"
      ]
     },
     "metadata": {},
     "output_type": "display_data"
    }
   ],
   "source": [
    "# Analysis of messages categorized into words\n",
    "data.word_count.hist(bins = bin_len)"
   ]
  },
  {
   "cell_type": "code",
   "execution_count": 39,
   "metadata": {},
   "outputs": [],
   "source": [
    "# Find the class with highest freq. \n",
    "dict = {}\n",
    "for item in class_by_len:\n",
    "    temp_frame = np.array(data.query(\"word_count == @item\"))\n",
    "    dict[str(item)] = len(temp_frame)"
   ]
  },
  {
   "cell_type": "code",
   "execution_count": 73,
   "metadata": {},
   "outputs": [],
   "source": [
    "# The word_count with the highest frquncy is \"9\"\n",
    "filtered_data = data.query(\"word_count == 19\")"
   ]
  },
  {
   "cell_type": "code",
   "execution_count": 74,
   "metadata": {},
   "outputs": [
    {
     "data": {
      "text/plain": [
       "array([\"Resource <Server: rally-03d2-Pq0H> has ERROR status.  Fault: {u'message': u'internal error: client socket is closed', u'code': 500, u'created': u'2018-04-18T19:27:28Z'}\",\n",
       "       \"Resource <Server: rally-a7ad-kpUm> has ERROR status.  Fault: {u'message': u'internal error: client socket is closed', u'code': 500, u'created': u'2018-04-18T03:52:14Z'}\",\n",
       "       \"Resource <Server: rally-97fb-wWlm> has ERROR status.  Fault: {u'message': u'internal error: client socket is closed', u'code': 500, u'created': u'2018-04-16T19:32:54Z'}\",\n",
       "       \"Resource <Server: rally-119c-PZVt> has ERROR status.  Fault: {u'message': u'internal error: client socket is closed', u'code': 500, u'created': u'2018-04-14T07:28:01Z'}\",\n",
       "       \"Resource <Server: rally-d0e6-KIQi> has ERROR status.  Fault: {u'message': u'internal error: client socket is closed', u'code': 500, u'created': u'2018-04-17T14:58:43Z'}\",\n",
       "       \"Resource <Server: rally-600e-FYGn> has ERROR status.  Fault: {u'message': u'internal error: client socket is closed', u'code': 500, u'created': u'2018-04-13T06:12:56Z'}\",\n",
       "       'Rally result is not a JSON. Cannot process results. <sep-rally-sep> Rally result is not a JSON. Cannot process results.'],\n",
       "      dtype=object)"
      ]
     },
     "execution_count": 74,
     "metadata": {},
     "output_type": "execute_result"
    }
   ],
   "source": [
    "msg_array = np.array(filtered_data._info.copy())\n",
    "msg_array"
   ]
  },
  {
   "cell_type": "code",
   "execution_count": 75,
   "metadata": {},
   "outputs": [],
   "source": [
    "jaccard_sim_set = []\n",
    "jaccard_matrix = [[0 for i in range(len(msg_array))] for j in range(len(msg_array))]\n",
    "for i in range(0, len(msg_array)):\n",
    "    jaccard_matrix[i][i] = 1\n",
    "    for j in range(i+1, len(msg_array)):\n",
    "        jaccard_sim = jaccard_similarity(msg_array[i], msg_array[j])\n",
    "        jaccard_sim_set.append(jaccard_sim)\n",
    "        jaccard_matrix[i][j] = jaccard_sim\n",
    "        jaccard_matrix[j][i] = jaccard_sim"
   ]
  },
  {
   "cell_type": "code",
   "execution_count": 76,
   "metadata": {},
   "outputs": [
    {
     "data": {
      "text/plain": [
       "{0.03571428571428571, 0.8095238095238095}"
      ]
     },
     "execution_count": 76,
     "metadata": {},
     "output_type": "execute_result"
    }
   ],
   "source": [
    "set(jaccard_sim_set)"
   ]
  },
  {
   "cell_type": "code",
   "execution_count": 77,
   "metadata": {},
   "outputs": [
    {
     "data": {
      "text/plain": [
       "2"
      ]
     },
     "execution_count": 77,
     "metadata": {},
     "output_type": "execute_result"
    }
   ],
   "source": [
    "len(set(jaccard_sim_set))"
   ]
  },
  {
   "cell_type": "code",
   "execution_count": 78,
   "metadata": {},
   "outputs": [],
   "source": [
    "jaccard_dataframe = pd.DataFrame(jaccard_sim_set)"
   ]
  },
  {
   "cell_type": "code",
   "execution_count": 79,
   "metadata": {},
   "outputs": [
    {
     "data": {
      "text/plain": [
       "array([[<matplotlib.axes._subplots.AxesSubplot object at 0x27c191c18>]],\n",
       "      dtype=object)"
      ]
     },
     "execution_count": 79,
     "metadata": {},
     "output_type": "execute_result"
    },
    {
     "data": {
      "image/png": "[encoded data removed]",
      "text/plain": [
       "<Figure size 432x288 with 1 Axes>"
      ]
     },
     "metadata": {},
     "output_type": "display_data"
    }
   ],
   "source": [
    "jaccard_dataframe.hist(bins = 3)"
   ]
  },
  {
   "cell_type": "code",
   "execution_count": 69,
   "metadata": {},
   "outputs": [
    {
     "data": {
      "text/plain": [
       "0.0"
      ]
     },
     "execution_count": 69,
     "metadata": {},
     "output_type": "execute_result"
    }
   ],
   "source": [
    "jaccard_matrix[-1][-3]"
   ]
  },
  {
   "cell_type": "code",
   "execution_count": 72,
   "metadata": {},
   "outputs": [],
   "source": [
    "# Visualize violin seaborn plot\n",
    "        "
   ]
  },
  {
   "cell_type": "code",
   "execution_count": null,
   "metadata": {},
   "outputs": [],
   "source": []
  },
  {
   "cell_type": "code",
   "execution_count": null,
   "metadata": {},
   "outputs": [],
   "source": []
  }
 ],
 "metadata": {
  "kernelspec": {
   "display_name": "Python 3",
   "language": "python",
   "name": "python3"
  },
  "language_info": {
   "codemirror_mode": {
    "name": "ipython",
    "version": 3
   },
   "file_extension": ".py",
   "mimetype": "text/x-python",
   "name": "python",
   "nbconvert_exporter": "python",
   "pygments_lexer": "ipython3",
   "version": "3.6.1"
  }
 },
 "nbformat": 4,
 "nbformat_minor": 2
}
