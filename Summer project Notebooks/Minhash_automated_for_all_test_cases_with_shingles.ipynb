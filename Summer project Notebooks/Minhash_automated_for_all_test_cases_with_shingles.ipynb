{
 "cells": [
  {
   "cell_type": "code",
   "execution_count": 2,
   "metadata": {},
   "outputs": [],
   "source": [
    "import pandas\n",
    "import csv \n",
    "import numpy as np\n",
    "from datasketch import MinHash, MinHashLSH\n",
    "import matplotlib\n",
    "import matplotlib.pyplot as plt\n",
    "%matplotlib inline"
   ]
  },
  {
   "cell_type": "code",
   "execution_count": 3,
   "metadata": {},
   "outputs": [],
   "source": [
    "# Shingle generators \n",
    "# Arguments : Message string, shingle size {in words}\n",
    "# Returns : All shingles formed with k words\n",
    "def shingle_generator(message, k):\n",
    "    message = message.split(' ')\n",
    "    item_set = []\n",
    "    for i in range(0, len(message)-k):\n",
    "        shingle = \"\"\n",
    "        for j in range(0, k):\n",
    "            shingle = shingle + message[i+j] + \" \"\n",
    "        item_set.append(shingle)\n",
    "    return item_set"
   ]
  },
  {
   "cell_type": "code",
   "execution_count": 4,
   "metadata": {},
   "outputs": [],
   "source": [
    "# dump the CSV file into a numpy array. \n",
    "csv_reader = pandas.read_pickle('data/string_study.pkl')\n",
    "# final_arr = csv_reader.values\n",
    "# final_arr = np.array(final_arr)"
   ]
  },
  {
   "cell_type": "code",
   "execution_count": 5,
   "metadata": {},
   "outputs": [
    {
     "data": {
      "text/html": [
       "<div>\n",
       "<style scoped>\n",
       "    .dataframe tbody tr th:only-of-type {\n",
       "        vertical-align: middle;\n",
       "    }\n",
       "\n",
       "    .dataframe tbody tr th {\n",
       "        vertical-align: top;\n",
       "    }\n",
       "\n",
       "    .dataframe thead th {\n",
       "        text-align: right;\n",
       "    }\n",
       "</style>\n",
       "<table border=\"1\" class=\"dataframe\">\n",
       "  <thead>\n",
       "    <tr style=\"text-align: right;\">\n",
       "      <th></th>\n",
       "      <th>atime</th>\n",
       "      <th>task</th>\n",
       "      <th>deployment</th>\n",
       "      <th>raw</th>\n",
       "      <th>dtime</th>\n",
       "      <th>msg</th>\n",
       "      <th>_info</th>\n",
       "    </tr>\n",
       "  </thead>\n",
       "  <tbody>\n",
       "    <tr>\n",
       "      <th>0</th>\n",
       "      <td>1524387149611</td>\n",
       "      <td>attach-volume</td>\n",
       "      <td>wig_project_003</td>\n",
       "      <td>2018-04-22 10:52:29.611 17979 ERROR rallyteste...</td>\n",
       "      <td>2018-04-22 08:00:00</td>\n",
       "      <td>waiting for Server to become ('ACTIVE')</td>\n",
       "      <td>Rally tired waiting 1440.00 seconds for Server...</td>\n",
       "    </tr>\n",
       "    <tr>\n",
       "      <th>1</th>\n",
       "      <td>1524387185889</td>\n",
       "      <td>boot-from-volume-linux</td>\n",
       "      <td>gva_shared_016</td>\n",
       "      <td>2018-04-22 10:53:05.889 25667 ERROR rallyteste...</td>\n",
       "      <td>2018-04-22 08:00:00</td>\n",
       "      <td>Quota exceeded for cores, instances: Requested...</td>\n",
       "      <td>Quota exceeded for cores, instances: Requested...</td>\n",
       "    </tr>\n",
       "  </tbody>\n",
       "</table>\n",
       "</div>"
      ],
      "text/plain": [
       "           atime                    task       deployment  \\\n",
       "0  1524387149611           attach-volume  wig_project_003   \n",
       "1  1524387185889  boot-from-volume-linux   gva_shared_016   \n",
       "\n",
       "                                                 raw               dtime  \\\n",
       "0  2018-04-22 10:52:29.611 17979 ERROR rallyteste... 2018-04-22 08:00:00   \n",
       "1  2018-04-22 10:53:05.889 25667 ERROR rallyteste... 2018-04-22 08:00:00   \n",
       "\n",
       "                                                 msg  \\\n",
       "0            waiting for Server to become ('ACTIVE')   \n",
       "1  Quota exceeded for cores, instances: Requested...   \n",
       "\n",
       "                                               _info  \n",
       "0  Rally tired waiting 1440.00 seconds for Server...  \n",
       "1  Quota exceeded for cores, instances: Requested...  "
      ]
     },
     "execution_count": 5,
     "metadata": {},
     "output_type": "execute_result"
    }
   ],
   "source": [
    "csv_reader.head(2)"
   ]
  },
  {
   "cell_type": "code",
   "execution_count": 6,
   "metadata": {},
   "outputs": [
    {
     "data": {
      "text/plain": [
       "0    14\n",
       "1    22\n",
       "2    22\n",
       "Name: _info, dtype: int64"
      ]
     },
     "execution_count": 6,
     "metadata": {},
     "output_type": "execute_result"
    }
   ],
   "source": [
    "csv_reader._info.apply(lambda x:len(x.split(' '))).head(3)"
   ]
  },
  {
   "cell_type": "code",
   "execution_count": 7,
   "metadata": {},
   "outputs": [
    {
     "data": {
      "text/plain": [
       "0    Rally tired waiting 1440.00 seconds for Server...\n",
       "1    Quota exceeded for cores, instances: Requested...\n",
       "2    Quota exceeded for cores, instances: Requested...\n",
       "Name: _info, dtype: object"
      ]
     },
     "execution_count": 7,
     "metadata": {},
     "output_type": "execute_result"
    }
   ],
   "source": [
    "csv_reader._info.apply(lambda x:x).head(3)"
   ]
  },
  {
   "cell_type": "code",
   "execution_count": 8,
   "metadata": {},
   "outputs": [
    {
     "data": {
      "text/plain": [
       "0    14\n",
       "1    22\n",
       "2    22\n",
       "Name: _info, dtype: int64"
      ]
     },
     "execution_count": 8,
     "metadata": {},
     "output_type": "execute_result"
    }
   ],
   "source": [
    "csv_reader._info.apply(lambda x:len(x.split(' '))).head(3)"
   ]
  },
  {
   "cell_type": "code",
   "execution_count": 9,
   "metadata": {},
   "outputs": [],
   "source": [
    "csv_reader[\"mylen\"] = csv_reader._info.apply(lambda x:len(x.split(' ')))"
   ]
  },
  {
   "cell_type": "code",
   "execution_count": 10,
   "metadata": {},
   "outputs": [
    {
     "data": {
      "text/html": [
       "<div>\n",
       "<style scoped>\n",
       "    .dataframe tbody tr th:only-of-type {\n",
       "        vertical-align: middle;\n",
       "    }\n",
       "\n",
       "    .dataframe tbody tr th {\n",
       "        vertical-align: top;\n",
       "    }\n",
       "\n",
       "    .dataframe thead th {\n",
       "        text-align: right;\n",
       "    }\n",
       "</style>\n",
       "<table border=\"1\" class=\"dataframe\">\n",
       "  <thead>\n",
       "    <tr style=\"text-align: right;\">\n",
       "      <th></th>\n",
       "      <th>atime</th>\n",
       "      <th>task</th>\n",
       "      <th>deployment</th>\n",
       "      <th>raw</th>\n",
       "      <th>dtime</th>\n",
       "      <th>msg</th>\n",
       "      <th>_info</th>\n",
       "      <th>mylen</th>\n",
       "    </tr>\n",
       "  </thead>\n",
       "  <tbody>\n",
       "    <tr>\n",
       "      <th>0</th>\n",
       "      <td>1524387149611</td>\n",
       "      <td>attach-volume</td>\n",
       "      <td>wig_project_003</td>\n",
       "      <td>2018-04-22 10:52:29.611 17979 ERROR rallyteste...</td>\n",
       "      <td>2018-04-22 08:00:00</td>\n",
       "      <td>waiting for Server to become ('ACTIVE')</td>\n",
       "      <td>Rally tired waiting 1440.00 seconds for Server...</td>\n",
       "      <td>14</td>\n",
       "    </tr>\n",
       "    <tr>\n",
       "      <th>1</th>\n",
       "      <td>1524387185889</td>\n",
       "      <td>boot-from-volume-linux</td>\n",
       "      <td>gva_shared_016</td>\n",
       "      <td>2018-04-22 10:53:05.889 25667 ERROR rallyteste...</td>\n",
       "      <td>2018-04-22 08:00:00</td>\n",
       "      <td>Quota exceeded for cores, instances: Requested...</td>\n",
       "      <td>Quota exceeded for cores, instances: Requested...</td>\n",
       "      <td>22</td>\n",
       "    </tr>\n",
       "    <tr>\n",
       "      <th>2</th>\n",
       "      <td>1524387196073</td>\n",
       "      <td>boot-linux</td>\n",
       "      <td>gva_shared_016</td>\n",
       "      <td>2018-04-22 10:53:16.073 25840 ERROR rallyteste...</td>\n",
       "      <td>2018-04-22 08:00:00</td>\n",
       "      <td>Quota exceeded for cores, instances: Requested...</td>\n",
       "      <td>Quota exceeded for cores, instances: Requested...</td>\n",
       "      <td>22</td>\n",
       "    </tr>\n",
       "  </tbody>\n",
       "</table>\n",
       "</div>"
      ],
      "text/plain": [
       "           atime                    task       deployment  \\\n",
       "0  1524387149611           attach-volume  wig_project_003   \n",
       "1  1524387185889  boot-from-volume-linux   gva_shared_016   \n",
       "2  1524387196073              boot-linux   gva_shared_016   \n",
       "\n",
       "                                                 raw               dtime  \\\n",
       "0  2018-04-22 10:52:29.611 17979 ERROR rallyteste... 2018-04-22 08:00:00   \n",
       "1  2018-04-22 10:53:05.889 25667 ERROR rallyteste... 2018-04-22 08:00:00   \n",
       "2  2018-04-22 10:53:16.073 25840 ERROR rallyteste... 2018-04-22 08:00:00   \n",
       "\n",
       "                                                 msg  \\\n",
       "0            waiting for Server to become ('ACTIVE')   \n",
       "1  Quota exceeded for cores, instances: Requested...   \n",
       "2  Quota exceeded for cores, instances: Requested...   \n",
       "\n",
       "                                               _info  mylen  \n",
       "0  Rally tired waiting 1440.00 seconds for Server...     14  \n",
       "1  Quota exceeded for cores, instances: Requested...     22  \n",
       "2  Quota exceeded for cores, instances: Requested...     22  "
      ]
     },
     "execution_count": 10,
     "metadata": {},
     "output_type": "execute_result"
    }
   ],
   "source": [
    "csv_reader.head(3)"
   ]
  },
  {
   "cell_type": "code",
   "execution_count": 11,
   "metadata": {},
   "outputs": [],
   "source": [
    "# csv_reader.query().head(3)"
   ]
  },
  {
   "cell_type": "code",
   "execution_count": 12,
   "metadata": {},
   "outputs": [],
   "source": [
    "pandas.options.display.max_colwidth=200\n"
   ]
  },
  {
   "cell_type": "code",
   "execution_count": 13,
   "metadata": {},
   "outputs": [
    {
     "data": {
      "text/plain": [
       "275552"
      ]
     },
     "execution_count": 13,
     "metadata": {},
     "output_type": "execute_result"
    }
   ],
   "source": [
    "csv_reader.size"
   ]
  },
  {
   "cell_type": "code",
   "execution_count": 14,
   "metadata": {},
   "outputs": [
    {
     "data": {
      "text/plain": [
       "<matplotlib.axes._subplots.AxesSubplot at 0x121204c50>"
      ]
     },
     "execution_count": 14,
     "metadata": {},
     "output_type": "execute_result"
    },
    {
     "data": {
      "image/png": "[encoded data removed]",
      "text/plain": [
       "<Figure size 432x288 with 1 Axes>"
      ]
     },
     "metadata": {},
     "output_type": "display_data"
    }
   ],
   "source": [
    "csv_reader.mylen.hist(bins = 45)"
   ]
  },
  {
   "cell_type": "code",
   "execution_count": 42,
   "metadata": {},
   "outputs": [
    {
     "data": {
      "text/plain": [
       "32865    Rally tired waiting 1200.00 seconds for Pod nginx-cvmfs-ncoda:1f9bb71a-3cd1-11e8-b7c8-fa163eddb852 to become Ready current status {'conditions': [{'last_probe_time': None,                  'last_t...\n",
       "32867    Rally tired waiting 1200.00 seconds for Pod nginx-cvmfs-drhmx:8c4476a5-3cd5-11e8-b7cd-fa163ef444cc to become Ready current status {'conditions': [{'last_probe_time': None,                  'last_t...\n",
       "Name: _info, dtype: object"
      ]
     },
     "execution_count": 42,
     "metadata": {},
     "output_type": "execute_result"
    }
   ],
   "source": [
    "csv_reader.query(\"mylen > 599\")._info"
   ]
  },
  {
   "cell_type": "code",
   "execution_count": null,
   "metadata": {},
   "outputs": [],
   "source": []
  },
  {
   "cell_type": "code",
   "execution_count": null,
   "metadata": {},
   "outputs": [],
   "source": []
  },
  {
   "cell_type": "code",
   "execution_count": null,
   "metadata": {},
   "outputs": [],
   "source": []
  },
  {
   "cell_type": "code",
   "execution_count": 6,
   "metadata": {},
   "outputs": [],
   "source": [
    "# define the test sets of threshold and the number of permutations\n",
    "threshold_set = [.001, .01, .1, .2, .4, .5]\n",
    "permutations_set = [128, 151]"
   ]
  },
  {
   "cell_type": "code",
   "execution_count": 7,
   "metadata": {},
   "outputs": [
    {
     "data": {
      "text/plain": [
       "array([\"Rally tired waiting 1440.00 seconds for Server rally-9db3-aPln:176b6fd3-8a2d-4b60-a5bd-73575c4ad161 to become ('ACTIVE') current status BUILD\"],\n",
       "      dtype=object)"
      ]
     },
     "execution_count": 7,
     "metadata": {},
     "output_type": "execute_result"
    }
   ],
   "source": [
    "# extract all the raw_messsages from the error logs\n",
    "raw_msgs = final_arr[0:, -1]\n",
    "raw_msgs.shape\n",
    "raw_msgs[1:2]"
   ]
  },
  {
   "cell_type": "code",
   "execution_count": 9,
   "metadata": {},
   "outputs": [],
   "source": [
    "# Generate the set of words of all raw messages\n",
    "message_set = []\n",
    "for item in raw_msgs:\n",
    "#     set_of_words = set(item.split(' '))\n",
    "    # Shingle size is set to 3 words\n",
    "    set_of_words = set(shingle_generator(item, 2))\n",
    "    message_set.append(set_of_words)"
   ]
  },
  {
   "cell_type": "code",
   "execution_count": 10,
   "metadata": {},
   "outputs": [
    {
     "name": "stdout",
     "output_type": "stream",
     "text": [
      "Writing to output_128_0.001\n",
      "Writing to output_128_0.01\n",
      "Writing to output_128_0.1\n",
      "Writing to output_128_0.2\n",
      "Writing to output_128_0.4\n",
      "Writing to output_128_0.5\n",
      "Writing to output_151_0.001\n",
      "Writing to output_151_0.01\n",
      "Writing to output_151_0.1\n",
      "Writing to output_151_0.2\n",
      "Writing to output_151_0.4\n",
      "Writing to output_151_0.5\n"
     ]
    }
   ],
   "source": [
    "# Run the Min hash algo for all the permutations\n",
    "for permutations in permutations_set:\n",
    "    # Generalize the name of the output text file. \n",
    "    filename = \"output_\"\n",
    "    # Update the permutaitons in the 'filename'\n",
    "    filename = filename + str(permutations)\n",
    "    m = []\n",
    "    for i in range (0, len(message_set)):\n",
    "        m_temp = MinHash(num_perm=permutations)\n",
    "        m.append(m_temp)\n",
    "    i = 0\n",
    "    for message in message_set:\n",
    "        for word in message:\n",
    "            m[i].update(word.encode('utf-8'))\n",
    "        i = i + 1\n",
    "    \n",
    "    # Run the algo for all thresholds in the threshold set\n",
    "    for threshold in threshold_set:\n",
    "        temp_filename = filename\n",
    "        filename = filename + \"_\" + str(threshold)\n",
    "        lsh = MinHashLSH(threshold=threshold, num_perm=permutations)\n",
    "        for i in range (1, len(m)):\n",
    "            string = \"m\" + str(i)\n",
    "            lsh.insert(string, m[i])\n",
    "        # Find all the messages similar to the fist message with a specified threshold\n",
    "        result = lsh.query(m[1])\n",
    "        \n",
    "        # Write the result to a file\n",
    "        print \"Writing to \" + filename\n",
    "        filename = filename + \".txt\"\n",
    "        with open(filename, 'w') as f:\n",
    "            for item in result:\n",
    "                f.write(\"%s\\n\" % item)\n",
    "        \n",
    "        # Reset the file name\n",
    "        filename = temp_filename"
   ]
  },
  {
   "cell_type": "code",
   "execution_count": 11,
   "metadata": {},
   "outputs": [
    {
     "name": "stdout",
     "output_type": "stream",
     "text": [
      "Successfully completed. No of files created 12\n"
     ]
    }
   ],
   "source": [
    "print \"Successfully completed. No of files created \" + str(len(permutations_set)*len(threshold_set))"
   ]
  },
  {
   "cell_type": "code",
   "execution_count": null,
   "metadata": {},
   "outputs": [],
   "source": []
  }
 ],
 "metadata": {
  "kernelspec": {
   "display_name": "Python 3",
   "language": "python",
   "name": "python3"
  },
  "language_info": {
   "codemirror_mode": {
    "name": "ipython",
    "version": 3
   },
   "file_extension": ".py",
   "mimetype": "text/x-python",
   "name": "python",
   "nbconvert_exporter": "python",
   "pygments_lexer": "ipython3",
   "version": "3.6.1"
  }
 },
 "nbformat": 4,
 "nbformat_minor": 2
}
